{
 "cells": [
  {
   "cell_type": "markdown",
   "metadata": {},
   "source": [
    "# REAL LIFE TEST\n",
    "\n",
    "Test the algorithm in a real-life application: scan an entire OD.\n",
    "\n",
    "**N.B.**: the first step is the data cleaning; here, data is already cleaned with the code in `cleaning` folder."
   ]
  },
  {
   "cell_type": "code",
   "execution_count": 1,
   "metadata": {
    "ExecuteTime": {
     "end_time": "2019-12-26T22:09:33.537011Z",
     "start_time": "2019-12-26T22:09:32.280050Z"
    }
   },
   "outputs": [],
   "source": [
    "%matplotlib inline\n",
    "\n",
    "# Scientific computing\n",
    "import numpy as np\n",
    "import pandas as pd\n",
    "\n",
    "# Plot\n",
    "import matplotlib.pyplot as plt\n",
    "import seaborn as sns; sns.set()\n",
    "#sns.set_context('paper')\n",
    "\n",
    "# Machine Learning\n",
    "# Model\n",
    "from sklearn.svm import SVC\n",
    "# Ensemble model\n",
    "from sklearn.ensemble import BaggingClassifier\n",
    "\n",
    "# Other\n",
    "import time\n",
    "#import requests\n",
    "#import threading"
   ]
  },
  {
   "cell_type": "markdown",
   "metadata": {},
   "source": [
    "## Load data\n",
    "### Train data"
   ]
  },
  {
   "cell_type": "code",
   "execution_count": 2,
   "metadata": {
    "ExecuteTime": {
     "end_time": "2019-12-26T22:09:33.909977Z",
     "start_time": "2019-12-26T22:09:33.538901Z"
    }
   },
   "outputs": [],
   "source": [
    "first_cycle = True\n",
    "with pd.HDFStore('../../classification/ris/OUT-classified-merged.h5', mode='r') as in_data:\n",
    "    for group in ['GLITCH', 'NO_GLITCH']:\n",
    "        if first_cycle == True:\n",
    "            data = np.array(in_data[group].to_numpy())\n",
    "            if group == 'GLITCH':\n",
    "                target = np.ones(len(data))\n",
    "            elif group == 'NO_GLITCH':\n",
    "                target = np.zeros(len(data))\n",
    "            else:\n",
    "                print(\"ERROR.\")\n",
    "            first_cycle = False\n",
    "        else:\n",
    "            data = np.concatenate((data, in_data[group].to_numpy()))\n",
    "            if group == 'GLITCH':\n",
    "                target = np.concatenate((target, np.ones(len(in_data[group].to_numpy()))))\n",
    "            elif group == 'NO_GLITCH':\n",
    "                target = np.concatenate((target, np.zeros(len(in_data[group].to_numpy()))))\n",
    "            else:\n",
    "                print(\"ERROR.\")\n",
    "    data = np.concatenate((data, in_data['MULTI_GLITCH'].to_numpy()))\n",
    "    target = np.concatenate((target, np.ones(len(in_data['MULTI_GLITCH'].to_numpy()))))\n",
    "\n",
    "train_data = data\n",
    "train_target = target\n",
    "del data, target"
   ]
  },
  {
   "cell_type": "markdown",
   "metadata": {},
   "source": [
    "### Test data"
   ]
  },
  {
   "cell_type": "code",
   "execution_count": 3,
   "metadata": {
    "ExecuteTime": {
     "end_time": "2019-12-26T22:09:34.012775Z",
     "start_time": "2019-12-26T22:09:33.910899Z"
    }
   },
   "outputs": [],
   "source": [
    "filename = 'C:/Users/paolo/OUT-cleaned.h5'\n",
    "OD = '097'\n",
    "detector = '143-5'\n",
    "curr_df = OD + '/' + detector\n",
    "\n",
    "with pd.HDFStore(filename, mode='r') as in_data:\n",
    "    data_df = in_data[curr_df]\n",
    "\n",
    "n_sequences = data_df.index[::100].shape[0]"
   ]
  },
  {
   "cell_type": "markdown",
   "metadata": {},
   "source": [
    "## Normal model\n",
    "\n",
    "### Train\n",
    "Train the model on the classified data."
   ]
  },
  {
   "cell_type": "code",
   "execution_count": 4,
   "metadata": {
    "ExecuteTime": {
     "end_time": "2019-12-26T22:09:36.799880Z",
     "start_time": "2019-12-26T22:09:34.014471Z"
    }
   },
   "outputs": [
    {
     "data": {
      "text/plain": [
       "SVC(C=1.45, break_ties=False, cache_size=200, class_weight=None, coef0=0.0,\n",
       "    decision_function_shape='ovr', degree=3, gamma=0.0151, kernel='rbf',\n",
       "    max_iter=-1, probability=True, random_state=None, shrinking=True, tol=0.001,\n",
       "    verbose=False)"
      ]
     },
     "execution_count": 4,
     "metadata": {},
     "output_type": "execute_result"
    }
   ],
   "source": [
    "best_kernel = 'rbf'\n",
    "best_gamma = 0.0151\n",
    "best_C = 1.45\n",
    "\n",
    "clf = SVC(kernel=best_kernel, gamma=best_gamma, C=best_C, probability=True)\n",
    "clf.fit(train_data, train_target)"
   ]
  },
  {
   "cell_type": "markdown",
   "metadata": {},
   "source": [
    "### Test"
   ]
  },
  {
   "cell_type": "code",
   "execution_count": 5,
   "metadata": {
    "ExecuteTime": {
     "end_time": "2019-12-26T22:10:43.778396Z",
     "start_time": "2019-12-26T22:09:36.800880Z"
    }
   },
   "outputs": [
    {
     "name": "stdout",
     "output_type": "stream",
     "text": [
      "Time [s]: 44.40004801750183\n"
     ]
    }
   ],
   "source": [
    "t = 0\n",
    "for i in range(0, n_sequences-1):\n",
    "    d = data_df.iloc[i*100 : i*100 + 100].to_numpy().transpose()\n",
    "    t_b = time.time()\n",
    "    clf.predict_proba(d)\n",
    "    t_e = time.time()\n",
    "    t += (t_e - t_b)\n",
    "    print(str(int(i/n_sequences*10000)/100) + '%', end='\\r')\n",
    "print('Time [s]:', t)"
   ]
  },
  {
   "cell_type": "markdown",
   "metadata": {},
   "source": [
    "## Sorted model"
   ]
  },
  {
   "cell_type": "code",
   "execution_count": 6,
   "metadata": {
    "ExecuteTime": {
     "end_time": "2019-12-26T22:10:43.789913Z",
     "start_time": "2019-12-26T22:10:43.780399Z"
    }
   },
   "outputs": [],
   "source": [
    "train_data_s = np.sort(train_data, axis=1)"
   ]
  },
  {
   "cell_type": "markdown",
   "metadata": {},
   "source": [
    "### Train\n",
    "Train the model on the classified data."
   ]
  },
  {
   "cell_type": "code",
   "execution_count": 7,
   "metadata": {
    "ExecuteTime": {
     "end_time": "2019-12-26T22:10:43.905434Z",
     "start_time": "2019-12-26T22:10:43.792430Z"
    }
   },
   "outputs": [
    {
     "data": {
      "text/plain": [
       "SVC(C=0.15, break_ties=False, cache_size=200, class_weight=None, coef0=0.0,\n",
       "    decision_function_shape='ovr', degree=3, gamma='scale', kernel='linear',\n",
       "    max_iter=-1, probability=True, random_state=None, shrinking=True, tol=0.001,\n",
       "    verbose=False)"
      ]
     },
     "execution_count": 7,
     "metadata": {},
     "output_type": "execute_result"
    }
   ],
   "source": [
    "best_kernel = 'linear'\n",
    "best_C = 0.15\n",
    "\n",
    "clf = SVC(kernel=best_kernel, C=best_C, probability=True)\n",
    "clf.fit(train_data_s, train_target)"
   ]
  },
  {
   "cell_type": "markdown",
   "metadata": {},
   "source": [
    "### Test"
   ]
  },
  {
   "cell_type": "code",
   "execution_count": 8,
   "metadata": {
    "ExecuteTime": {
     "end_time": "2019-12-26T22:11:38.433286Z",
     "start_time": "2019-12-26T22:10:43.906431Z"
    }
   },
   "outputs": [
    {
     "name": "stdout",
     "output_type": "stream",
     "text": [
      "Time [s]: 15.12482237815857\n"
     ]
    }
   ],
   "source": [
    "t = 0\n",
    "for i in range(0, n_sequences-1):\n",
    "    d = np.sort(data_df.iloc[i*100 : i*100 + 100].to_numpy().transpose(), axis=1)\n",
    "    t_b = time.time()\n",
    "    clf.predict_proba(d)\n",
    "    t_e = time.time()\n",
    "    t += (t_e - t_b)\n",
    "    print(str(int(i/n_sequences*10000)/100) + '%', end='\\r')\n",
    "print('Time [s]:', t)"
   ]
  }
 ],
 "metadata": {
  "kernelspec": {
   "display_name": "Python 3",
   "language": "python",
   "name": "python3"
  },
  "language_info": {
   "codemirror_mode": {
    "name": "ipython",
    "version": 3
   },
   "file_extension": ".py",
   "mimetype": "text/x-python",
   "name": "python",
   "nbconvert_exporter": "python",
   "pygments_lexer": "ipython3",
   "version": "3.7.5"
  },
  "toc": {
   "base_numbering": 1,
   "nav_menu": {
    "height": "465px",
    "width": "403px"
   },
   "number_sections": true,
   "sideBar": true,
   "skip_h1_title": false,
   "title_cell": "Table of Contents",
   "title_sidebar": "Contents",
   "toc_cell": false,
   "toc_position": {},
   "toc_section_display": true,
   "toc_window_display": false
  }
 },
 "nbformat": 4,
 "nbformat_minor": 4
}
