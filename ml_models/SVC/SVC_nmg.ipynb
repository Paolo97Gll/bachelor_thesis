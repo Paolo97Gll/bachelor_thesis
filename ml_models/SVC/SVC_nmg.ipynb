{
 "cells": [
  {
   "cell_type": "markdown",
   "metadata": {},
   "source": [
    "# SVC - No multi glitch\n",
    "\n",
    "**N.B.** SVC require normalized data; nevertheless, in this case _we can't normalize the features_, otherwise we would lose all the information on the peaks!! In fact, if we do not normalize the data, the train score is around $0.98$ or $0.99$; on the contrary, if we normalize the data, the train score is around $0.70$."
   ]
  },
  {
   "cell_type": "code",
   "execution_count": 1,
   "metadata": {
    "ExecuteTime": {
     "end_time": "2019-09-30T16:19:34.256532Z",
     "start_time": "2019-09-30T16:19:33.125112Z"
    }
   },
   "outputs": [
    {
     "name": "stderr",
     "output_type": "stream",
     "text": [
      "Intel(R) Data Analytics Acceleration Library (Intel(R) DAAL) solvers for sklearn enabled: https://intelpython.github.io/daal4py/sklearn.html\n"
     ]
    }
   ],
   "source": [
    "%matplotlib inline\n",
    "\n",
    "# Scientific computing\n",
    "import numpy as np\n",
    "import pandas as pd\n",
    "from scipy import interp\n",
    "\n",
    "# Plot\n",
    "import matplotlib.pyplot as plt\n",
    "import seaborn as sns\n",
    "sns.set()\n",
    "#sns.set_context('paper')\n",
    "\n",
    "# Machine Learning\n",
    "# Model\n",
    "from sklearn.svm import SVC\n",
    "# Ensemble model\n",
    "from sklearn.ensemble import BaggingClassifier\n",
    "# Splitter Classes\n",
    "from sklearn.model_selection import StratifiedKFold\n",
    "from sklearn.model_selection import RepeatedStratifiedKFold\n",
    "# Splitter Functions\n",
    "from sklearn.model_selection import train_test_split\n",
    "from sklearn.model_selection import ShuffleSplit\n",
    "# Model validation\n",
    "from sklearn.model_selection import learning_curve\n",
    "# Training metrics\n",
    "from sklearn.metrics import confusion_matrix\n",
    "from sklearn.metrics import roc_curve\n",
    "from sklearn.metrics import auc\n",
    "\n",
    "# Other\n",
    "import requests\n",
    "import threading"
   ]
  },
  {
   "cell_type": "markdown",
   "metadata": {},
   "source": [
    "# Useful functions"
   ]
  },
  {
   "cell_type": "markdown",
   "metadata": {},
   "source": [
    "Function `print_confusion_matrix`"
   ]
  },
  {
   "cell_type": "code",
   "execution_count": 2,
   "metadata": {
    "ExecuteTime": {
     "end_time": "2019-09-30T16:19:34.264235Z",
     "start_time": "2019-09-30T16:19:34.258714Z"
    },
    "code_folding": [
     0
    ],
    "jupyter": {
     "source_hidden": true
    }
   },
   "outputs": [],
   "source": [
    "def print_confusion_matrix(cm, labels, hide_zeroes=False, hide_diagonal=False, hide_threshold=None):\n",
    "    columnwidth = max([len(str(x)) for x in labels] + [5])  # 5 is value length\n",
    "    empty_cell = \" \" * columnwidth\n",
    "    \n",
    "    # Begin CHANGES\n",
    "    fst_empty_cell = (columnwidth-3)//2 * \" \" + \"t\\p\" + (columnwidth-3)//2 * \" \"\n",
    "    \n",
    "    if len(fst_empty_cell) < len(empty_cell):\n",
    "        fst_empty_cell = \" \" * (len(empty_cell) - len(fst_empty_cell)) + fst_empty_cell\n",
    "    # Print header\n",
    "    print(\"    \" + fst_empty_cell, end=\" \")\n",
    "    # End CHANGES\n",
    "    \n",
    "    for label in labels:\n",
    "        print(\"%{0}s\".format(columnwidth) % label, end=\" \")\n",
    "        \n",
    "    print()\n",
    "    # Print rows\n",
    "    for i, label1 in enumerate(labels):\n",
    "        print(\"    %{0}s\".format(columnwidth) % label1, end=\" \")\n",
    "        for j in range(len(labels)):\n",
    "            cell = \"%{0}.1f\".format(columnwidth) % cm[i, j]\n",
    "            if hide_zeroes:\n",
    "                cell = cell if float(cm[i, j]) != 0 else empty_cell\n",
    "            if hide_diagonal:\n",
    "                cell = cell if i != j else empty_cell\n",
    "            if hide_threshold:\n",
    "                cell = cell if cm[i, j] > hide_threshold else empty_cell\n",
    "            print(cell, end=\" \")\n",
    "        print()"
   ]
  },
  {
   "cell_type": "markdown",
   "metadata": {},
   "source": [
    "Function `plot_confusion_matrix`"
   ]
  },
  {
   "cell_type": "code",
   "execution_count": 3,
   "metadata": {
    "ExecuteTime": {
     "end_time": "2019-09-30T16:19:34.328847Z",
     "start_time": "2019-09-30T16:19:34.266997Z"
    },
    "code_folding": [
     0
    ],
    "jupyter": {
     "source_hidden": true
    }
   },
   "outputs": [],
   "source": [
    "def plot_confusion_matrix(cm, labels, title, filename, normalize=True, save=True):\n",
    "    # Create DataFrame\n",
    "    df_cm = pd.DataFrame(cm, columns=labels, index=labels)\n",
    "    df_cm.index.name = 'True label'\n",
    "    df_cm.columns.name = 'Predicted label'\n",
    "    \n",
    "    # Normalize\n",
    "    if normalize:\n",
    "        df_cm = df_cm.div(df_cm.sum(axis=1), axis=0).round(decimals=2)\n",
    "    \n",
    "    # Plot\n",
    "    fig, ax = plt.subplots()\n",
    "    ax = sns.heatmap(df_cm, cmap='Blues', annot=True)\n",
    "    axlim = ax.get_ylim()\n",
    "    ax.set_ylim(axlim[0] + 0.5, axlim[1] - 0.5)\n",
    "    if normalize:\n",
    "        ax.set_title(title + ' (normalized)')\n",
    "    else:\n",
    "        ax.set_title(title)\n",
    "    \n",
    "    if save == True:\n",
    "        fig.savefig(filename)"
   ]
  },
  {
   "cell_type": "markdown",
   "metadata": {},
   "source": [
    "Function `plot_learning_curve`"
   ]
  },
  {
   "cell_type": "code",
   "execution_count": 4,
   "metadata": {
    "ExecuteTime": {
     "end_time": "2019-09-30T16:19:34.340137Z",
     "start_time": "2019-09-30T16:19:34.330813Z"
    },
    "code_folding": [
     0
    ],
    "jupyter": {
     "source_hidden": true
    }
   },
   "outputs": [],
   "source": [
    "def plot_learning_curve(estimator, X, y, title, filename, ylim=None, xscale=None, cv=None,\n",
    "                        n_jobs=-1, n_curve_steps=20, save=True):\n",
    "    train_sizes = np.linspace(.1, 1.0, n_curve_steps)\n",
    "    plt.title(title)\n",
    "    if ylim is not None:\n",
    "        plt.ylim(*ylim)\n",
    "    if xscale is not None:\n",
    "        plt.xscale(xscale)\n",
    "    plt.xlabel('Training dataset size')\n",
    "    plt.ylabel('Score')\n",
    "    train_sizes, train_scores, test_scores = learning_curve(estimator, X, y, cv=cv, n_jobs=n_jobs, train_sizes=train_sizes)\n",
    "    train_scores_mean = np.mean(train_scores, axis=1)\n",
    "    train_scores_std = np.std(train_scores, axis=1)\n",
    "    test_scores_mean = np.mean(test_scores, axis=1)\n",
    "    test_scores_std = np.std(test_scores, axis=1)\n",
    "\n",
    "    plt.fill_between(train_sizes, train_scores_mean - train_scores_std,\n",
    "                     train_scores_mean + train_scores_std, alpha=0.1,\n",
    "                     color='r')\n",
    "    plt.fill_between(train_sizes, test_scores_mean - test_scores_std,\n",
    "                     test_scores_mean + test_scores_std, alpha=0.1, color='g')\n",
    "    plt.plot(train_sizes, train_scores_mean, linestyle='--', color='r',\n",
    "             label='Training score')\n",
    "    plt.plot(train_sizes, test_scores_mean, 'o-', color='g',\n",
    "             label='Cross-validation score')\n",
    "\n",
    "    plt.legend(loc='best')\n",
    "    \n",
    "    if save == True:\n",
    "        plt.savefig(filename)"
   ]
  },
  {
   "cell_type": "markdown",
   "metadata": {},
   "source": [
    "Function `plot_roc_curve`"
   ]
  },
  {
   "cell_type": "code",
   "execution_count": 5,
   "metadata": {
    "ExecuteTime": {
     "end_time": "2019-09-30T16:19:34.353873Z",
     "start_time": "2019-09-30T16:19:34.342935Z"
    },
    "code_folding": [
     0
    ],
    "jupyter": {
     "source_hidden": true
    }
   },
   "outputs": [],
   "source": [
    "def plot_roc_curve(estimator, X, y, cv, title, filename, save=True):\n",
    "    tprs = []\n",
    "    aucs = []\n",
    "    mean_fpr = np.linspace(0, 1, 100)\n",
    "\n",
    "    i = 0\n",
    "    for train, test in cv.split(X, y):\n",
    "        probas_ = estimator.fit(X[train], y[train]).predict_proba(X[test])\n",
    "        # Compute ROC curve and area the curve\n",
    "        fpr, tpr, thresholds = roc_curve(y[test], probas_[:, 1])\n",
    "        tprs.append(interp(mean_fpr, fpr, tpr))\n",
    "        tprs[-1][0] = 0.0\n",
    "        roc_auc = auc(fpr, tpr)\n",
    "        aucs.append(roc_auc)\n",
    "        plt.plot(fpr, tpr, lw=1, alpha=0.3,\n",
    "                 label='ROC fold %d (AUC = %0.3f)' % (i, roc_auc))\n",
    "        i += 1\n",
    "\n",
    "    mean_tpr = np.mean(tprs, axis=0)\n",
    "    mean_tpr[-1] = 1.0\n",
    "    mean_auc = auc(mean_fpr, mean_tpr)\n",
    "    std_auc = np.std(aucs)\n",
    "    plt.plot(mean_fpr, mean_tpr, color='b',\n",
    "             label=r'Mean ROC (AUC = %0.3f $\\pm$ %0.3f)' % (mean_auc, std_auc),\n",
    "             lw=2, alpha=.8)\n",
    "\n",
    "    std_tpr = np.std(tprs, axis=0)\n",
    "    tprs_upper = np.minimum(mean_tpr + std_tpr, 1)\n",
    "    tprs_lower = np.maximum(mean_tpr - std_tpr, 0)\n",
    "    plt.fill_between(mean_fpr, tprs_lower, tprs_upper, color='grey', alpha=.2,\n",
    "                     label=r'$\\pm$ 1 std. dev.')\n",
    "\n",
    "    plt.xlim([-0.05, 1.05])\n",
    "    plt.ylim([-0.05, 1.05])\n",
    "    plt.xlabel('False Positive Rate')\n",
    "    plt.ylabel('True Positive Rate')\n",
    "    plt.title(title)\n",
    "    plt.legend(loc=\"lower right\")\n",
    "    \n",
    "    if save == True:\n",
    "        plt.savefig(filename)"
   ]
  },
  {
   "cell_type": "markdown",
   "metadata": {},
   "source": [
    "# Preparation\n",
    "\n",
    "Load data and target from `classification/ris/OUT-classified-merged.h5` and load into numpy arrays.\n",
    "- **Label `0` = NO GLITCH**\n",
    "- **Label `1` = GLITCH**"
   ]
  },
  {
   "cell_type": "code",
   "execution_count": 6,
   "metadata": {
    "ExecuteTime": {
     "end_time": "2019-09-30T16:19:34.583331Z",
     "start_time": "2019-09-30T16:19:34.356430Z"
    },
    "code_folding": []
   },
   "outputs": [],
   "source": [
    "first_cycle = True\n",
    "with pd.HDFStore('../../classification/ris/OUT-classified-merged.h5', mode='r') as in_data:\n",
    "    for group in ['GLITCH', 'NO_GLITCH']:\n",
    "        if first_cycle == True:\n",
    "            data = np.array(in_data[group].to_numpy())\n",
    "            if group == 'GLITCH':\n",
    "                target = np.ones(len(data))\n",
    "            elif group == 'NO_GLITCH':\n",
    "                target = np.zeros(len(data))\n",
    "            else:\n",
    "                print(\"ERROR.\")\n",
    "            first_cycle = False\n",
    "        else:\n",
    "            data = np.concatenate((data, in_data[group].to_numpy()))\n",
    "            if group == 'GLITCH':\n",
    "                target = np.concatenate((target, np.ones(len(in_data[group].to_numpy()))))\n",
    "            elif group == 'NO_GLITCH':\n",
    "                target = np.concatenate((target, np.zeros(len(in_data[group].to_numpy()))))\n",
    "            else:\n",
    "                print(\"ERROR.\")"
   ]
  },
  {
   "cell_type": "markdown",
   "metadata": {},
   "source": [
    "# Standard training\n",
    "\n",
    "Initialize best hyper-parameters founded."
   ]
  },
  {
   "cell_type": "code",
   "execution_count": 7,
   "metadata": {
    "ExecuteTime": {
     "end_time": "2019-09-30T16:19:34.587791Z",
     "start_time": "2019-09-30T16:19:34.585056Z"
    }
   },
   "outputs": [],
   "source": [
    "best_kernel = 'rbf'\n",
    "best_gamma = 0.0145\n",
    "best_C = 0.8"
   ]
  },
  {
   "cell_type": "markdown",
   "metadata": {},
   "source": [
    "## Cross validation\n",
    "\n",
    "Use k-fold to make a cross validation of the model."
   ]
  },
  {
   "cell_type": "code",
   "execution_count": 8,
   "metadata": {
    "ExecuteTime": {
     "end_time": "2019-09-30T16:19:47.873034Z",
     "start_time": "2019-09-30T16:19:34.590114Z"
    },
    "code_folding": [
     10
    ]
   },
   "outputs": [
    {
     "name": "stdout",
     "output_type": "stream",
     "text": [
      "Score: 0.9786855419718969 +- 0.007512088704110749\n"
     ]
    }
   ],
   "source": [
    "# Multithreading\n",
    "maxthreads = 8\n",
    "sema = threading.Semaphore(value=maxthreads)\n",
    "c = threading.Condition()\n",
    "\n",
    "# k-fold parameters\n",
    "n_splits = 5\n",
    "n_repeats = 50\n",
    "\n",
    "# Multithread function\n",
    "def thread_function(train_index, test_index):\n",
    "    # Acquire a semaphore slot\n",
    "    sema.acquire()\n",
    "    # Set global variables\n",
    "    global data\n",
    "    global target\n",
    "    global scores\n",
    "    global best_kernel\n",
    "    global best_gamma\n",
    "    global best_C\n",
    "    # Load training and testing data\n",
    "    c.acquire()\n",
    "    clf = SVC(kernel=best_kernel, gamma=best_gamma, C=best_C)\n",
    "    X_train, X_test = data[train_index], data[test_index]\n",
    "    y_train, y_test = target[train_index], target[test_index]\n",
    "    c.notify_all()\n",
    "    c.release()\n",
    "    # Fit the model\n",
    "    clf.fit(X_train, y_train)\n",
    "    train_score = clf.score(X_test, y_test)\n",
    "    # Save the score\n",
    "    c.acquire()\n",
    "    scores = np.append(scores, train_score)\n",
    "    c.notify_all()\n",
    "    c.release()\n",
    "    # Release the semaphore slot\n",
    "    sema.release()\n",
    "\n",
    "# Stratified k-fold\n",
    "rskf = RepeatedStratifiedKFold(n_splits=n_splits, n_repeats=n_repeats, random_state=None)\n",
    "scores = np.array([])\n",
    "threads = []\n",
    "# Make k-fold CV\n",
    "for train_index, test_index in rskf.split(data, target):\n",
    "    thread = threading.Thread(target=thread_function, args=(train_index, test_index))\n",
    "    threads.append(thread)\n",
    "    thread.start()\n",
    "for thread in threads:\n",
    "    thread.join()\n",
    "    \n",
    "# Print final score\n",
    "print('Score:', scores.mean(), '+-', scores.std())"
   ]
  },
  {
   "cell_type": "markdown",
   "metadata": {},
   "source": [
    "## Confusion matrix, learning curve and ROC curve\n",
    "\n",
    "### Confusion matrix"
   ]
  },
  {
   "cell_type": "code",
   "execution_count": 9,
   "metadata": {
    "ExecuteTime": {
     "end_time": "2019-09-30T16:19:48.427169Z",
     "start_time": "2019-09-30T16:19:47.875455Z"
    }
   },
   "outputs": [
    {
     "name": "stdout",
     "output_type": "stream",
     "text": [
      "Text confusion matrix (without normalization)\n",
      "\n",
      "       t\\p    no glitch    glitch \n",
      "    no glitch     291.0       4.0 \n",
      "       glitch       3.0     223.0 \n",
      "\n",
      "\n",
      "Graphic confusion matrix (normalized)\n",
      "\n"
     ]
    },
    {
     "data": {
      "image/png": "[encoded data removed]",
      "text/plain": [
       "<Figure size 432x288 with 2 Axes>"
      ]
     },
     "metadata": {
      "needs_background": "light"
     },
     "output_type": "display_data"
    }
   ],
   "source": [
    "clf = SVC(kernel=best_kernel, gamma=best_gamma, C=best_C)\n",
    "\n",
    "# Split the data into a training set and a test set\n",
    "X_train, X_test, y_train, y_test = train_test_split(data, target, test_size=0.3, random_state=14, stratify=target)\n",
    "# Train and predict\n",
    "y_pred = clf.fit(X_train, y_train).predict(X_test)\n",
    "\n",
    "# Compute confusion matrix\n",
    "labels = [0., 1.]\n",
    "labels_text = ['no glitch', 'glitch']\n",
    "cm = confusion_matrix(y_test, y_pred, labels=labels)\n",
    "# Print confusion matrix\n",
    "print('Text confusion matrix (without normalization)\\n')\n",
    "print_confusion_matrix(cm, labels_text)\n",
    "print('\\n\\nGraphic confusion matrix (normalized)\\n')\n",
    "plot_confusion_matrix(cm, labels_text, 'Confusion matrix (no multi glitch)', 'ris/plots/nmg-confusion_matrix.pdf', normalize=True)"
   ]
  },
  {
   "cell_type": "markdown",
   "metadata": {},
   "source": [
    "### Learning curve"
   ]
  },
  {
   "cell_type": "code",
   "execution_count": 10,
   "metadata": {
    "ExecuteTime": {
     "end_time": "2019-09-30T16:20:55.328018Z",
     "start_time": "2019-09-30T16:19:48.429118Z"
    }
   },
   "outputs": [
    {
     "data": {
      "image/png": "[encoded data removed]",
      "text/plain": [
       "<Figure size 432x288 with 1 Axes>"
      ]
     },
     "metadata": {
      "needs_background": "light"
     },
     "output_type": "display_data"
    }
   ],
   "source": [
    "# Classifier and cross-validation method\n",
    "clf = SVC(kernel=best_kernel, gamma=best_gamma, C=best_C)\n",
    "cv = ShuffleSplit(n_splits=100, test_size=0.3, random_state=0)\n",
    "\n",
    "# Plot learning curve\n",
    "plot_learning_curve(clf, data, target, 'Learning curve (no multi glitch)', 'ris/plots/nmg-learning_curve.pdf', cv=cv)"
   ]
  },
  {
   "cell_type": "markdown",
   "metadata": {},
   "source": [
    "### ROC curve"
   ]
  },
  {
   "cell_type": "code",
   "execution_count": 11,
   "metadata": {
    "ExecuteTime": {
     "end_time": "2019-09-30T16:21:02.625621Z",
     "start_time": "2019-09-30T16:20:55.330114Z"
    }
   },
   "outputs": [
    {
     "data": {
      "image/png": "[encoded data removed]",
      "text/plain": [
       "<Figure size 432x288 with 1 Axes>"
      ]
     },
     "metadata": {
      "needs_background": "light"
     },
     "output_type": "display_data"
    }
   ],
   "source": [
    "# Classifier and cross-validation method\n",
    "clf = SVC(kernel=best_kernel, gamma=best_gamma, C=best_C, probability=True)\n",
    "cv = StratifiedKFold(n_splits=5)\n",
    "\n",
    "# Plot ROC curve\n",
    "plot_roc_curve(clf, data, target, cv, 'ROC curve (no multi glitch)', 'ris/plots/nmg-roc_curve.pdf')"
   ]
  },
  {
   "cell_type": "markdown",
   "metadata": {},
   "source": [
    "# Data augmentation\n",
    "\n",
    "Data augmentation is a strategy that increase the diversity of data available for training models, without actually collecting new data. The data augmentation techniques used in this case are vertical flipping and translations.\n",
    "\n",
    "**N.B.: the training time is extremely big!**"
   ]
  },
  {
   "cell_type": "markdown",
   "metadata": {},
   "source": [
    "## Training\n",
    "\n",
    "Due to the long training time, this part will be made in another script on `belen`, called `score_algorithms.py` .\n",
    "\n",
    "### Simple training"
   ]
  },
  {
   "cell_type": "code",
   "execution_count": 12,
   "metadata": {
    "ExecuteTime": {
     "end_time": "2019-09-30T16:21:02.630357Z",
     "start_time": "2019-09-30T16:21:02.627743Z"
    },
    "code_folding": []
   },
   "outputs": [],
   "source": [
    "# See score_algorithms.py"
   ]
  },
  {
   "cell_type": "markdown",
   "metadata": {},
   "source": [
    "### Bagging Classifier training\n",
    "\n",
    "A Bagging classifier is an ensemble meta-estimator that fits base classifiers each on random subsets of the original dataset and then aggregate their individual predictions (either by voting or by averaging) to form a final prediction."
   ]
  },
  {
   "cell_type": "code",
   "execution_count": 13,
   "metadata": {
    "ExecuteTime": {
     "end_time": "2019-09-30T16:21:02.635405Z",
     "start_time": "2019-09-30T16:21:02.632438Z"
    }
   },
   "outputs": [],
   "source": [
    "# See score_algorithms.py"
   ]
  },
  {
   "cell_type": "markdown",
   "metadata": {},
   "source": [
    "## Confusion matrix, learning curve and ROC curve\n",
    "\n",
    "Due to the long training time, this part will be made in another script on `belen`, called `data_augmentation_plots.py` .\n",
    "\n",
    "### Confusion matrix"
   ]
  },
  {
   "cell_type": "code",
   "execution_count": 14,
   "metadata": {
    "ExecuteTime": {
     "end_time": "2019-09-30T16:21:02.640012Z",
     "start_time": "2019-09-30T16:21:02.637754Z"
    }
   },
   "outputs": [],
   "source": [
    "# See data_augmentation_plots.py"
   ]
  },
  {
   "cell_type": "markdown",
   "metadata": {},
   "source": [
    "### Learning curve"
   ]
  },
  {
   "cell_type": "code",
   "execution_count": 15,
   "metadata": {
    "ExecuteTime": {
     "end_time": "2019-09-30T16:21:02.643935Z",
     "start_time": "2019-09-30T16:21:02.641675Z"
    }
   },
   "outputs": [],
   "source": [
    "# See data_augmentation_plots.py"
   ]
  },
  {
   "cell_type": "markdown",
   "metadata": {},
   "source": [
    "### ROC curve"
   ]
  },
  {
   "cell_type": "code",
   "execution_count": 16,
   "metadata": {
    "ExecuteTime": {
     "end_time": "2019-09-30T16:21:02.649013Z",
     "start_time": "2019-09-30T16:21:02.646661Z"
    }
   },
   "outputs": [],
   "source": [
    "# See data_augmentation_plots.py"
   ]
  },
  {
   "cell_type": "markdown",
   "metadata": {
    "ExecuteTime": {
     "end_time": "2019-09-28T09:32:39.445374Z",
     "start_time": "2019-09-28T09:32:39.442706Z"
    }
   },
   "source": [
    "# Sorted data\n",
    "\n",
    "Glitches data have a peak, but it is in a random point of the plot. We can help the model by sorting data values: the new features queue will be about the same for all the data, while the first features will became discriminant. _In this case, data augmentation technique have no sense._"
   ]
  },
  {
   "cell_type": "code",
   "execution_count": 17,
   "metadata": {
    "ExecuteTime": {
     "end_time": "2019-09-30T16:21:02.658415Z",
     "start_time": "2019-09-30T16:21:02.651044Z"
    }
   },
   "outputs": [],
   "source": [
    "data_s = np.sort(data, axis=1)"
   ]
  },
  {
   "cell_type": "markdown",
   "metadata": {},
   "source": [
    "Initialize best hyper-parameters founded."
   ]
  },
  {
   "cell_type": "code",
   "execution_count": 18,
   "metadata": {
    "ExecuteTime": {
     "end_time": "2019-09-30T16:21:02.662219Z",
     "start_time": "2019-09-30T16:21:02.660093Z"
    }
   },
   "outputs": [],
   "source": [
    "best_kernel = 'linear'\n",
    "best_C = 0.117"
   ]
  },
  {
   "cell_type": "markdown",
   "metadata": {},
   "source": [
    "## Cross validation\n",
    "\n",
    "Use k-fold to make a cross validation of the model."
   ]
  },
  {
   "cell_type": "code",
   "execution_count": 19,
   "metadata": {
    "ExecuteTime": {
     "end_time": "2019-09-30T16:21:03.806464Z",
     "start_time": "2019-09-30T16:21:02.666821Z"
    },
    "code_folding": [
     10
    ]
   },
   "outputs": [
    {
     "name": "stdout",
     "output_type": "stream",
     "text": [
      "Score: 0.9989740940360889 +- 0.0017026495611888507\n"
     ]
    }
   ],
   "source": [
    "# Multithreading\n",
    "maxthreads = 8\n",
    "sema = threading.Semaphore(value=maxthreads)\n",
    "c = threading.Condition()\n",
    "\n",
    "# k-fold parameters\n",
    "n_splits = 5\n",
    "n_repeats = 50\n",
    "\n",
    "# Multithread function\n",
    "def thread_function(train_index, test_index):\n",
    "    # Acquire a semaphore slot\n",
    "    sema.acquire()\n",
    "    # Set global variables\n",
    "    global data_s\n",
    "    global target\n",
    "    global scores\n",
    "    global best_kernel\n",
    "    global best_C\n",
    "    # Load training and testing data\n",
    "    c.acquire()\n",
    "    clf = SVC(kernel=best_kernel, C=best_C)\n",
    "    X_train, X_test = data_s[train_index], data_s[test_index]\n",
    "    y_train, y_test = target[train_index], target[test_index]\n",
    "    c.notify_all()\n",
    "    c.release()\n",
    "    # Fit the model\n",
    "    clf.fit(X_train, y_train)\n",
    "    train_score = clf.score(X_test, y_test)\n",
    "    # Save the score\n",
    "    c.acquire()\n",
    "    scores = np.append(scores, train_score)\n",
    "    c.notify_all()\n",
    "    c.release()\n",
    "    # Release the semaphore slot\n",
    "    sema.release()\n",
    "\n",
    "# Stratified k-fold\n",
    "rskf = RepeatedStratifiedKFold(n_splits=n_splits, n_repeats=n_repeats, random_state=None)\n",
    "scores = np.array([])\n",
    "threads = []\n",
    "# Make k-fold CV\n",
    "for train_index, test_index in rskf.split(data_s, target):\n",
    "    thread = threading.Thread(target=thread_function, args=(train_index, test_index))\n",
    "    threads.append(thread)\n",
    "    thread.start()\n",
    "for thread in threads:\n",
    "    thread.join()\n",
    "    \n",
    "# Print final score\n",
    "print('Score:', scores.mean(), '+-', scores.std())"
   ]
  },
  {
   "cell_type": "markdown",
   "metadata": {},
   "source": [
    "## Confusion matrix, learning curve and ROC curve\n",
    "\n",
    "### Confusion matrix"
   ]
  },
  {
   "cell_type": "code",
   "execution_count": 20,
   "metadata": {
    "ExecuteTime": {
     "end_time": "2019-09-30T16:21:04.097832Z",
     "start_time": "2019-09-30T16:21:03.811433Z"
    }
   },
   "outputs": [
    {
     "name": "stdout",
     "output_type": "stream",
     "text": [
      "Text confusion matrix (without normalization)\n",
      "\n",
      "       t\\p    no glitch    glitch \n",
      "    no glitch     295.0       0.0 \n",
      "       glitch       0.0     226.0 \n",
      "\n",
      "\n",
      "Graphic confusion matrix (normalized)\n",
      "\n"
     ]
    },
    {
     "data": {
      "image/png": "[encoded data removed]",
      "text/plain": [
       "<Figure size 432x288 with 2 Axes>"
      ]
     },
     "metadata": {
      "needs_background": "light"
     },
     "output_type": "display_data"
    }
   ],
   "source": [
    "clf = SVC(kernel=best_kernel, C=best_C)\n",
    "\n",
    "# Split the data into a training set and a test set\n",
    "X_train, X_test, y_train, y_test = train_test_split(data_s, target, test_size=0.3, random_state=0, stratify=target)\n",
    "# Train and predict\n",
    "y_pred = clf.fit(X_train, y_train).predict(X_test)\n",
    "\n",
    "# Compute confusion matrix\n",
    "labels = [0., 1.]\n",
    "labels_text = ['no glitch', 'glitch']\n",
    "cm = confusion_matrix(y_test, y_pred, labels=labels)\n",
    "# Print confusion matrix\n",
    "print('Text confusion matrix (without normalization)\\n')\n",
    "print_confusion_matrix(cm, labels_text)\n",
    "print('\\n\\nGraphic confusion matrix (normalized)\\n')\n",
    "plot_confusion_matrix(cm, labels_text, 'Confusion matrix (no multi glitch) (sorted)', 'ris/plots/nmg_s-confusion_matrix.pdf', normalize=True)"
   ]
  },
  {
   "cell_type": "markdown",
   "metadata": {},
   "source": [
    "### Learning curve"
   ]
  },
  {
   "cell_type": "code",
   "execution_count": 21,
   "metadata": {
    "ExecuteTime": {
     "end_time": "2019-09-30T16:21:10.441394Z",
     "start_time": "2019-09-30T16:21:04.099961Z"
    }
   },
   "outputs": [
    {
     "data": {
      "image/png": "[encoded data removed]",
      "text/plain": [
       "<Figure size 432x288 with 1 Axes>"
      ]
     },
     "metadata": {
      "needs_background": "light"
     },
     "output_type": "display_data"
    }
   ],
   "source": [
    "# Classifier and cross-validation method\n",
    "clf = SVC(kernel=best_kernel, C=best_C)\n",
    "cv = ShuffleSplit(n_splits=100, test_size=0.3, random_state=0)\n",
    "\n",
    "# Plot learning curve\n",
    "plot_learning_curve(clf, data_s, target, 'Learning curve (no multi glitch) (sorted)', 'ris/plots/nmg_s-learning_curve.pdf', cv=cv)"
   ]
  },
  {
   "cell_type": "markdown",
   "metadata": {},
   "source": [
    "### ROC curve"
   ]
  },
  {
   "cell_type": "code",
   "execution_count": 22,
   "metadata": {
    "ExecuteTime": {
     "end_time": "2019-09-30T16:21:11.203698Z",
     "start_time": "2019-09-30T16:21:10.444509Z"
    }
   },
   "outputs": [
    {
     "data": {
      "image/png": "[encoded data removed]",
      "text/plain": [
       "<Figure size 432x288 with 1 Axes>"
      ]
     },
     "metadata": {
      "needs_background": "light"
     },
     "output_type": "display_data"
    }
   ],
   "source": [
    "# Classifier and cross-validation method\n",
    "clf = SVC(kernel=best_kernel, C=best_C, probability=True)\n",
    "cv = StratifiedKFold(n_splits=5)\n",
    "\n",
    "# Plot ROC curve\n",
    "plot_roc_curve(clf, data_s, target, cv, 'ROC curve (no multi glitch) (sorted)', 'ris/plots/nmg_s-roc_curve.pdf')"
   ]
  }
 ],
 "metadata": {
  "kernelspec": {
   "display_name": "Python 3",
   "language": "python",
   "name": "python3"
  },
  "language_info": {
   "codemirror_mode": {
    "name": "ipython",
    "version": 3
   },
   "file_extension": ".py",
   "mimetype": "text/x-python",
   "name": "python",
   "nbconvert_exporter": "python",
   "pygments_lexer": "ipython3",
   "version": "3.6.9"
  },
  "toc": {
   "base_numbering": 1,
   "nav_menu": {
    "height": "465px",
    "width": "403px"
   },
   "number_sections": true,
   "sideBar": true,
   "skip_h1_title": false,
   "title_cell": "Table of Contents",
   "title_sidebar": "Contents",
   "toc_cell": false,
   "toc_position": {},
   "toc_section_display": true,
   "toc_window_display": false
  }
 },
 "nbformat": 4,
 "nbformat_minor": 4
}
