{
 "cells": [
  {
   "cell_type": "markdown",
   "metadata": {},
   "source": [
    "# SVC: C-Support Vector Classification\n",
    "\n",
    "_A Support Vector Machine (SVM) is a discriminative classifier formally defined by a separating hyperplane. In other words, given labeled training data (supervised learning), the algorithm outputs an optimal hyperplane which categorizes new examples. In two dimentional space this hyperplane is a line dividing a plane in two parts where in each class lay in either side._ (from [here](https://medium.com/machine-learning-101/chapter-2-svm-support-vector-machine-theory-f0812effc72))"
   ]
  },
  {
   "cell_type": "code",
   "execution_count": 13,
   "metadata": {},
   "outputs": [],
   "source": [
    "%matplotlib inline\n",
    "\n",
    "# Reading files\n",
    "import h5py\n",
    "import toml\n",
    "\n",
    "# Scientific computing\n",
    "import numpy as np\n",
    "import pandas as pd\n",
    "from scipy import interp\n",
    "\n",
    "# Plot\n",
    "import matplotlib.pyplot as plt\n",
    "import seaborn as sns\n",
    "sns.set()\n",
    "#sns.set_context('paper')\n",
    "\n",
    "# Machine Learning\n",
    "## Model\n",
    "from sklearn.svm import SVC\n",
    "## Splitter Classes\n",
    "from sklearn.model_selection import KFold\n",
    "from sklearn.model_selection import RepeatedKFold\n",
    "from sklearn.model_selection import StratifiedKFold\n",
    "from sklearn.model_selection import RepeatedStratifiedKFold\n",
    "# Splitter Functions\n",
    "from sklearn.model_selection import train_test_split\n",
    "from sklearn.model_selection import ShuffleSplit\n",
    "# Hyper-parameter optimizers\n",
    "from sklearn.model_selection import GridSearchCV\n",
    "from sklearn.model_selection import RandomizedSearchCV\n",
    "# Model validation\n",
    "from sklearn.model_selection import learning_curve\n",
    "# Training metrics\n",
    "from sklearn.metrics import classification_report\n",
    "from sklearn.metrics import confusion_matrix\n",
    "from sklearn.metrics import roc_curve\n",
    "from sklearn.metrics import auc\n",
    "\n",
    "# Other\n",
    "import os\n",
    "import time\n",
    "import requests"
   ]
  },
  {
   "cell_type": "markdown",
   "metadata": {},
   "source": [
    "## Preparation\n",
    "\n",
    "Load data and target from `classification/ris/OUT-classified-merged.h5` and load into numpy arrays.\n",
    "\n",
    "**Label `0` = NO GLITCH**\n",
    "\n",
    "**Label `1` = GLITCH**"
   ]
  },
  {
   "cell_type": "code",
   "execution_count": 2,
   "metadata": {},
   "outputs": [],
   "source": [
    "first_cycle = True\n",
    "with pd.HDFStore('../../classification/ris/OUT-classified-merged.h5', mode='r') as in_data:\n",
    "    for group in ['GLITCH', 'NO_GLITCH']:\n",
    "        if first_cycle == True:\n",
    "            data = np.array(in_data[group].to_numpy())\n",
    "            if group == 'GLITCH':\n",
    "                target = np.ones(len(data))\n",
    "            elif group == 'NO_GLITCH':\n",
    "                target = np.zeros(len(data))\n",
    "            else:\n",
    "                print(\"ERROR.\")\n",
    "            first_cycle = False\n",
    "        else:\n",
    "            data = np.concatenate((data, in_data[group].to_numpy()))\n",
    "            if group == 'GLITCH':\n",
    "                target = np.concatenate((target, np.ones(len(in_data[group].to_numpy()))))\n",
    "            elif group == 'NO_GLITCH':\n",
    "                target = np.concatenate((target, np.zeros(len(in_data[group].to_numpy()))))\n",
    "            else:\n",
    "                print(\"ERROR.\")"
   ]
  },
  {
   "cell_type": "markdown",
   "metadata": {},
   "source": [
    "## Best Training\n",
    "\n",
    "Initialize best hyper-parameters founded."
   ]
  },
  {
   "cell_type": "code",
   "execution_count": 24,
   "metadata": {},
   "outputs": [],
   "source": [
    "best_kernel = 'rbf'\n",
    "best_gamma = 0.0145\n",
    "best_C = 8.7"
   ]
  },
  {
   "cell_type": "markdown",
   "metadata": {},
   "source": [
    "### Cross validation\n",
    "\n",
    "Use k-fold to make a cross validation of the model."
   ]
  },
  {
   "cell_type": "code",
   "execution_count": 25,
   "metadata": {},
   "outputs": [
    {
     "name": "stdout",
     "output_type": "stream",
     "text": [
      "Average score (k-fold): 0.9795965417867436\n",
      "Average score (Stratified k-fold): 0.9789628069558697\n"
     ]
    }
   ],
   "source": [
    "clf = SVC(kernel=best_kernel, gamma=best_gamma, C=best_C)\n",
    "\n",
    "# k-fold\n",
    "\n",
    "rkf = RepeatedKFold(n_splits=5, n_repeats=10, random_state=None)\n",
    "scores_rkf = np.array([])\n",
    "# Make k-fold CV\n",
    "for train_index, test_index in rkf.split(data, target):\n",
    "    X_train, X_test = data[train_index], data[test_index]\n",
    "    y_train, y_test = target[train_index], target[test_index]\n",
    "    clf.fit(X_train, y_train)\n",
    "    scores_rkf = np.append(scores_rkf, clf.score(X_test, y_test))\n",
    "# Print final score\n",
    "print(\"Average score (k-fold):\", scores_rkf.mean())\n",
    "\n",
    "\n",
    "# Stratified k-fold\n",
    "\n",
    "rskf = RepeatedStratifiedKFold(n_splits=5, n_repeats=10, random_state=None)\n",
    "scores_rskf = np.array([])\n",
    "# Make k-fold CV\n",
    "for train_index, test_index in rskf.split(data, target):\n",
    "    X_train, X_test = data[train_index], data[test_index]\n",
    "    y_train, y_test = target[train_index], target[test_index]\n",
    "    clf.fit(X_train, y_train)\n",
    "    scores_rskf = np.append(scores_rskf, clf.score(X_test, y_test))\n",
    "# Print final score\n",
    "print(\"Average score (Stratified k-fold):\", scores_rskf.mean())"
   ]
  },
  {
   "cell_type": "markdown",
   "metadata": {},
   "source": [
    "### Confusion matrix\n",
    "\n",
    "Function `print_confusion_matrix`"
   ]
  },
  {
   "cell_type": "code",
   "execution_count": 5,
   "metadata": {
    "jupyter": {
     "source_hidden": true
    }
   },
   "outputs": [],
   "source": [
    "def print_confusion_matrix(cm, labels, hide_zeroes=False, hide_diagonal=False, hide_threshold=None):\n",
    "    columnwidth = max([len(str(x)) for x in labels] + [5])  # 5 is value length\n",
    "    empty_cell = \" \" * columnwidth\n",
    "    \n",
    "    # Begin CHANGES\n",
    "    fst_empty_cell = (columnwidth-3)//2 * \" \" + \"t\\p\" + (columnwidth-3)//2 * \" \"\n",
    "    \n",
    "    if len(fst_empty_cell) < len(empty_cell):\n",
    "        fst_empty_cell = \" \" * (len(empty_cell) - len(fst_empty_cell)) + fst_empty_cell\n",
    "    # Print header\n",
    "    print(\"    \" + fst_empty_cell, end=\" \")\n",
    "    # End CHANGES\n",
    "    \n",
    "    for label in labels:\n",
    "        print(\"%{0}s\".format(columnwidth) % label, end=\" \")\n",
    "        \n",
    "    print()\n",
    "    # Print rows\n",
    "    for i, label1 in enumerate(labels):\n",
    "        print(\"    %{0}s\".format(columnwidth) % label1, end=\" \")\n",
    "        for j in range(len(labels)):\n",
    "            cell = \"%{0}.1f\".format(columnwidth) % cm[i, j]\n",
    "            if hide_zeroes:\n",
    "                cell = cell if float(cm[i, j]) != 0 else empty_cell\n",
    "            if hide_diagonal:\n",
    "                cell = cell if i != j else empty_cell\n",
    "            if hide_threshold:\n",
    "                cell = cell if cm[i, j] > hide_threshold else empty_cell\n",
    "            print(cell, end=\" \")\n",
    "        print()"
   ]
  },
  {
   "cell_type": "markdown",
   "metadata": {},
   "source": [
    "Function `plot_confusion_matrix`"
   ]
  },
  {
   "cell_type": "code",
   "execution_count": 6,
   "metadata": {
    "jupyter": {
     "source_hidden": true
    }
   },
   "outputs": [],
   "source": [
    "def plot_confusion_matrix(cm, labels, normalize=True):\n",
    "    \n",
    "    # Create DataFrame\n",
    "    df_cm = pd.DataFrame(cm, columns=labels, index=labels)\n",
    "    df_cm.index.name = 'True label'\n",
    "    df_cm.columns.name = 'Predicted label'\n",
    "    \n",
    "    # Normalize\n",
    "    if normalize:\n",
    "        df_cm = df_cm.div(df_cm.sum(axis=1), axis=0).round(decimals=2)\n",
    "    \n",
    "    # Plot\n",
    "    fig, ax = plt.subplots()\n",
    "    ax = sns.heatmap(df_cm, cmap='Blues', annot=True)\n",
    "    axlim = ax.get_ylim()\n",
    "    ax.set_ylim(axlim[0] + 0.5, axlim[1] - 0.5)\n",
    "    if normalize:\n",
    "        ax.set_title('Confusion matrix (with normalization)')\n",
    "    else:\n",
    "        ax.set_title('Confusion matrix (without normalization)')\n",
    "    \n",
    "    return fig, ax"
   ]
  },
  {
   "cell_type": "markdown",
   "metadata": {},
   "source": [
    "Print confusion matrix."
   ]
  },
  {
   "cell_type": "code",
   "execution_count": 8,
   "metadata": {},
   "outputs": [
    {
     "name": "stdout",
     "output_type": "stream",
     "text": [
      "Text confusion matrix (without normalization)\n",
      "\n",
      "       t\\p    no glitch    glitch \n",
      "    no glitch     284.0       6.0 \n",
      "       glitch       2.0     229.0 \n",
      "\n",
      "\n",
      "Graphic confusion matrix (normalized)\n",
      "\n"
     ]
    },
    {
     "data": {
      "image/png": "[encoded data removed]",
      "text/plain": [
       "<Figure size 432x288 with 2 Axes>"
      ]
     },
     "metadata": {},
     "output_type": "display_data"
    }
   ],
   "source": [
    "clf = SVC(kernel=best_kernel, gamma=best_gamma, C=best_C)\n",
    "\n",
    "# Split the data into a training set and a test set\n",
    "X_train, X_test, y_train, y_test = train_test_split(data, target, test_size=0.3, random_state=0, )\n",
    "# Train and predict\n",
    "y_pred = clf.fit(X_train, y_train).predict(X_test)\n",
    "\n",
    "# Compute confusion matrix\n",
    "labels = [0., 1.]\n",
    "labels_text = ['no glitch', 'glitch']\n",
    "cm = confusion_matrix(y_test, y_pred, labels=labels)\n",
    "\n",
    "# Print confusion matrix\n",
    "print('Text confusion matrix (without normalization)\\n')\n",
    "print_confusion_matrix(cm, labels_text)\n",
    "print('\\n\\nGraphic confusion matrix (normalized)\\n')\n",
    "fig, ax = plot_confusion_matrix(cm, labels_text, normalize=True)\n",
    "fig.savefig('confusion_matrix.png', dpi=800)"
   ]
  },
  {
   "cell_type": "markdown",
   "metadata": {},
   "source": [
    "### Learning curve\n",
    "\n",
    "Function `plot_learning_curve`"
   ]
  },
  {
   "cell_type": "code",
   "execution_count": 9,
   "metadata": {
    "jupyter": {
     "source_hidden": true
    }
   },
   "outputs": [],
   "source": [
    "def plot_learning_curve(estimator, title, X, y, ylim=None, cv=None,\n",
    "                        n_jobs=None, train_sizes=np.linspace(.1, 1.0, 5)):\n",
    "    \"\"\"\n",
    "    Generate a simple plot of the test and training learning curve.\n",
    "\n",
    "    Parameters\n",
    "    ----------\n",
    "    estimator : object type that implements the \"fit\" and \"predbest_test_scorehods\n",
    "        An object of that type which is cloned for each validation.\n",
    "\n",
    "    title : string\n",
    "        Title for the chart.\n",
    "\n",
    "    X : array-like, shape (n_samples, n_features)\n",
    "        Training vector, where n_samples is the number of samples and\n",
    "        n_features is the number of features.\n",
    "\n",
    "    y : array-like, shape (n_samples) or (n_samples, n_features), optional\n",
    "        Target relative to X for classification or regression;\n",
    "        None for unsupervised learning.\n",
    "\n",
    "    ylim : tuple, shape (ymin, ymax), optional\n",
    "        Defines minimum and maximum yvalues plotted.\n",
    "\n",
    "    cv : int, cross-validation generator or an iterable, optional\n",
    "        Determines the cross-validation splitting strategy.\n",
    "        Possible inputs for cv are:\n",
    "          - None, to use the default 3-fold cross-validation,\n",
    "          - integer, to specify the number of folds.\n",
    "          - :term:`CV splitter`,\n",
    "          - An iterable yielding (train, test) splits as arrays of indices.\n",
    "\n",
    "        For integer/None inputs, if ``y`` is binary or multiclass,\n",
    "        :class:`StratifiedKFold` used. If the estimator is not a classifier\n",
    "        or if ``y`` is neither binary nor multiclass, :class:`KFold` is used.\n",
    "\n",
    "        Refer :ref:`User Guide <cross_validation>` for the various\n",
    "        cross-validators that can be used here.\n",
    "\n",
    "    n_jobs : int or None, optional (default=None)\n",
    "        Number of jobs to run in parallel.\n",
    "        ``None`` means 1 unless in a :obj:`joblib.parallel_backend` context.\n",
    "        ``-1`` means using all processors. See :term:`Glossary <n_jobs>`\n",
    "        for more details.\n",
    "\n",
    "    train_sizes : array-like, shape (n_ticks,), dtype float or int\n",
    "        Relative or absolute numbers of training examples that will be used to\n",
    "        generate the learning curve. If the dtype is float, it is regarded as a\n",
    "        fraction of the maximum size of the training set (that is determined\n",
    "        by the selected validation method), i.e. it has to be within (0, 1].\n",
    "        Otherwise it is interpreted as absolute sizes of the training sets.\n",
    "        Note that for classification the number of samples usually have to\n",
    "        be big enough to contain at least one sample from each class.\n",
    "        (default: np.linspace(0.1, 1.0, 5))\n",
    "    \"\"\"\n",
    "    #plt.figure(figsize = (9,6))\n",
    "    plt.title(title)\n",
    "    if ylim is not None:\n",
    "        plt.ylim(*ylim)\n",
    "    plt.xlabel('Training examples')\n",
    "    plt.ylabel('Score')\n",
    "    train_sizes, train_scores, test_scores = learning_curve(\n",
    "        estimator, X, y, cv=cv, n_jobs=n_jobs, train_sizes=train_sizes)\n",
    "    train_scores_mean = np.mean(train_scores, axis=1)\n",
    "    train_scores_std = np.std(train_scores, axis=1)\n",
    "    test_scores_mean = np.mean(test_scores, axis=1)\n",
    "    test_scores_std = np.std(test_scores, axis=1)\n",
    "    #plt.grid()\n",
    "\n",
    "    plt.fill_between(train_sizes, train_scores_mean - train_scores_std,\n",
    "                     train_scores_mean + train_scores_std, alpha=0.1,\n",
    "                     color='r')\n",
    "    plt.fill_between(train_sizes, test_scores_mean - test_scores_std,\n",
    "                     test_scores_mean + test_scores_std, alpha=0.1, color='g')\n",
    "    plt.plot(train_sizes, train_scores_mean, 'o-', color='r',\n",
    "             label='Training score')\n",
    "    plt.plot(train_sizes, test_scores_mean, 'o-', color='g',\n",
    "             label='Cross-validation score')\n",
    "\n",
    "    plt.legend(loc='best')\n",
    "    \n",
    "    return plt"
   ]
  },
  {
   "cell_type": "markdown",
   "metadata": {},
   "source": [
    "Plot the learning curve."
   ]
  },
  {
   "cell_type": "code",
   "execution_count": 10,
   "metadata": {},
   "outputs": [
    {
     "data": {
      "image/png": "[encoded data removed]",
      "text/plain": [
       "<Figure size 432x288 with 1 Axes>"
      ]
     },
     "metadata": {},
     "output_type": "display_data"
    }
   ],
   "source": [
    "clf = SVC(kernel=best_kernel, gamma=best_gamma, C=best_C)\n",
    "cv = ShuffleSplit(n_splits=100, test_size=0.3, random_state=0)\n",
    "\n",
    "fig = plot_learning_curve(clf, 'Learning curve', data, target, cv=cv, n_jobs=-1, train_sizes=np.linspace(0.1, 1.0, 20))\n",
    "fig.savefig('learning_curve.png', dpi=800)"
   ]
  },
  {
   "cell_type": "markdown",
   "metadata": {},
   "source": [
    "### ROC curve\n",
    "\n",
    "Function `plot_roc_curve`"
   ]
  },
  {
   "cell_type": "code",
   "execution_count": 35,
   "metadata": {
    "jupyter": {
     "source_hidden": true
    }
   },
   "outputs": [],
   "source": [
    "def plot_roc_curve(estimator, cv):\n",
    "    tprs = []\n",
    "    aucs = []\n",
    "    mean_fpr = np.linspace(0, 1, 100)\n",
    "\n",
    "    i = 0\n",
    "    for train, test in cv.split(data, target):\n",
    "        probas_ = clf.fit(data[train], target[train]).predict_proba(data[test])\n",
    "        # Compute ROC curve and area the curve\n",
    "        fpr, tpr, thresholds = roc_curve(target[test], probas_[:, 1])\n",
    "        tprs.append(interp(mean_fpr, fpr, tpr))\n",
    "        tprs[-1][0] = 0.0\n",
    "        roc_auc = auc(fpr, tpr)\n",
    "        aucs.append(roc_auc)\n",
    "        plt.plot(fpr, tpr, lw=1, alpha=0.3,\n",
    "                 label='ROC fold %d (AUC = %0.2f)' % (i, roc_auc))\n",
    "        i += 1\n",
    "\n",
    "    mean_tpr = np.mean(tprs, axis=0)\n",
    "    mean_tpr[-1] = 1.0\n",
    "    mean_auc = auc(mean_fpr, mean_tpr)\n",
    "    std_auc = np.std(aucs)\n",
    "    plt.plot(mean_fpr, mean_tpr, color='b',\n",
    "             label=r'Mean ROC (AUC = %0.2f $\\pm$ %0.2f)' % (mean_auc, std_auc),\n",
    "             lw=2, alpha=.8)\n",
    "\n",
    "    std_tpr = np.std(tprs, axis=0)\n",
    "    tprs_upper = np.minimum(mean_tpr + std_tpr, 1)\n",
    "    tprs_lower = np.maximum(mean_tpr - std_tpr, 0)\n",
    "    plt.fill_between(mean_fpr, tprs_lower, tprs_upper, color='grey', alpha=.2,\n",
    "                     label=r'$\\pm$ 1 std. dev.')\n",
    "\n",
    "    plt.xlim([-0.05, 1.05])\n",
    "    plt.ylim([-0.05, 1.05])\n",
    "    plt.xlabel('False Positive Rate')\n",
    "    plt.ylabel('True Positive Rate')\n",
    "    plt.title('ROC curve')\n",
    "    plt.legend(loc=\"lower right\")\n",
    "    \n",
    "    return plt, mean_auc"
   ]
  },
  {
   "cell_type": "markdown",
   "metadata": {},
   "source": [
    "Plot the ROC curve."
   ]
  },
  {
   "cell_type": "code",
   "execution_count": 43,
   "metadata": {},
   "outputs": [
    {
     "data": {
      "image/png": "[encoded data removed]",
      "text/plain": [
       "<Figure size 432x288 with 1 Axes>"
      ]
     },
     "metadata": {},
     "output_type": "display_data"
    }
   ],
   "source": [
    "clf = SVC(kernel=best_kernel, gamma=best_gamma, C=best_C, probability=True)\n",
    "cv = StratifiedKFold(n_splits=5)\n",
    "\n",
    "fig, mean_auc = plot_roc_curve(clf, cv)\n",
    "fig.savefig('roc_curve.png', dpi=800)"
   ]
  },
  {
   "cell_type": "markdown",
   "metadata": {},
   "source": [
    "## Tuning the hyper-parameters\n",
    "\n",
    "### Kernel: `rbf`\n",
    "\n",
    "#### Grid Search"
   ]
  },
  {
   "cell_type": "raw",
   "metadata": {
    "jupyter": {
     "source_hidden": true
    }
   },
   "source": [
    "kernel = 'rbf'\n",
    "\n",
    "# Grid\n",
    "parameters = {\n",
    "    'gamma': np.arange(0.013,0.015,0.001),\n",
    "    'C': np.arange(0.1,20,0.1)\n",
    "}\n",
    "\n",
    "# Start search\n",
    "GSCV = GridSearchCV(SVC(kernel=kernel), parameters, n_jobs=-1, cv=5, iid=False)\n",
    "GSCV.fit(data, target)\n",
    "\n",
    "# Print best parameters\n",
    "print('Best parameters set found on development set:', GSCV.best_params_)\n",
    "print('Score:', GSCV.best_score_)\n",
    "\n",
    "# Print into a file the grid score\n",
    "with open('SVC_GridSearch_out.md', mode='a') as f:\n",
    "    print('# ' + time.ctime(), file=f)\n",
    "    print('', file=f)\n",
    "    print('### GridSearchCV parameters:', file=f)\n",
    "    print('', file=f)\n",
    "    print('```python', file=f)\n",
    "    print(GSCV.get_params, file=f)\n",
    "    print('```', file=f)\n",
    "    print('', file=f)\n",
    "    print('### Best SVC parameters:', file=f)\n",
    "    print('', file=f)\n",
    "    print('```python', file=f)\n",
    "    print(GSCV.best_estimator_, file=f)\n",
    "    print('```', file=f)\n",
    "    print('', file=f)\n",
    "    print('### Best parameters set found on development set:', file=f)\n",
    "    print('', file=f)\n",
    "    print('```python', file=f)\n",
    "    print(GSCV.best_params_, file=f)\n",
    "    print('```', file=f)\n",
    "    print('', file=f)\n",
    "    print('### Grid scores on development set:', file=f)\n",
    "    print('', file=f)\n",
    "    print('```', file=f)\n",
    "    means = GSCV.cv_results_['mean_test_score']\n",
    "    stds = GSCV.cv_results_['std_test_score']\n",
    "    for mean, std, params in zip(means, stds, GSCV.cv_results_['params']):\n",
    "        print('%0.3f (+/-%0.03f) for %r'\n",
    "              % (mean, std * 2, params), file=f)\n",
    "    print('```', file=f)\n",
    "    print('', file=f)\n",
    "    print('', file=f)\n",
    "\n",
    "# Send telegram message\n",
    "telegram_bot_id = toml.load('../telegram_bot_id.toml')\n",
    "params = {'chat_id': telegram_bot_id['chat_id'], 'text': '[python] SVC grid search terminated.'}\n",
    "requests.post('https://api.telegram.org/' + telegram_bot_id['bot_id'] + '/sendMessage', params=params)"
   ]
  },
  {
   "cell_type": "markdown",
   "metadata": {},
   "source": [
    "### Kernel: `sigmoid`\n",
    "\n",
    "Best parameters set found on development set: `{'C': 0.38000000000000006, 'coef0': -1.55, 'gamma': 0.0029500000000000012}`\n",
    "\n",
    "Score: $0.7365370516420923$\n",
    "\n",
    "#### Randomized Search"
   ]
  },
  {
   "cell_type": "raw",
   "metadata": {
    "jupyter": {
     "source_hidden": true
    }
   },
   "source": [
    "kernel = 'sigmoid'\n",
    "\n",
    "# Grid\n",
    "parameters = {\n",
    "    'gamma': np.arange(0.001,10,0.001),\n",
    "    'C': np.arange(0.1,10,0.1),\n",
    "    'coef0': np.arange(-10,10,0.01)\n",
    "}\n",
    "\n",
    "# Start search\n",
    "GSCV = RandomizedSearchCV(SVC(kernel=kernel), parameters, n_iter=1e4, n_jobs=-1, cv=5, iid=False)\n",
    "GSCV.fit(data, target)\n",
    "\n",
    "# Print best parameters\n",
    "print('Best parameters set found on development set:', GSCV.best_params_)\n",
    "print('Score:', GSCV.best_score_)\n",
    "\n",
    "# Print into a file the grid score\n",
    "with open('SVC_RandomizedSearch_out.md', mode='a') as f:\n",
    "    print('# ' + time.ctime(), file=f)\n",
    "    print('', file=f)\n",
    "    print('### GridSearchCV parameters:', file=f)\n",
    "    print('', file=f)\n",
    "    print('```python', file=f)\n",
    "    print(GSCV.get_params, file=f)\n",
    "    print('```', file=f)\n",
    "    print('', file=f)\n",
    "    print('### Best SVC parameters:', file=f)\n",
    "    print('', file=f)\n",
    "    print('```python', file=f)\n",
    "    print(GSCV.best_estimator_, file=f)\n",
    "    print('```', file=f)\n",
    "    print('', file=f)\n",
    "    print('### Best parameters set found on development set:', file=f)\n",
    "    print('', file=f)\n",
    "    print('```python', file=f)\n",
    "    print(GSCV.best_params_, file=f)\n",
    "    print('```', file=f)\n",
    "    print('', file=f)\n",
    "    print('### Grid scores on development set:', file=f)\n",
    "    print('', file=f)\n",
    "    print('```', file=f)\n",
    "    means = GSCV.cv_results_['mean_test_score']\n",
    "    stds = GSCV.cv_results_['std_test_score']\n",
    "    for mean, std, params in zip(means, stds, GSCV.cv_results_['params']):\n",
    "        print('%0.3f (+/-%0.03f) for %r'\n",
    "              % (mean, std * 2, params), file=f)\n",
    "    print('```', file=f)\n",
    "    print('', file=f)\n",
    "    print('', file=f)\n",
    "\n",
    "# Send telegram message\n",
    "telegram_bot_id = toml.load('../telegram_bot_id.toml')\n",
    "params = {'chat_id': telegram_bot_id['chat_id'], 'text': '[python] SVC randomized search terminated.'}\n",
    "requests.post('https://api.telegram.org/' + telegram_bot_id['bot_id'] + '/sendMessage', params=params)"
   ]
  },
  {
   "cell_type": "markdown",
   "metadata": {},
   "source": [
    "#### Grid Search"
   ]
  },
  {
   "cell_type": "raw",
   "metadata": {
    "jupyter": {
     "source_hidden": true
    }
   },
   "source": [
    "kernel = 'sigmoid'\n",
    "\n",
    "# Grid\n",
    "parameters = {\n",
    "    'gamma': np.arange(0.0025,0.0031,0.00005),\n",
    "    'C': np.arange(0.3,0.5,0.02),\n",
    "    'coef0': np.arange(-1.6,-1.3,0.05)\n",
    "}\n",
    "\n",
    "# Start search\n",
    "GSCV = GridSearchCV(SVC(kernel=kernel), parameters, n_jobs=-1, cv=5, iid=False)\n",
    "GSCV.fit(data, target)\n",
    "\n",
    "# Print best parameters\n",
    "print('Best parameters set found on development set:', GSCV.best_params_)\n",
    "print('Score:', GSCV.best_score_)\n",
    "\n",
    "# Print into a file the grid score\n",
    "with open('SVC_GridSearch_out.md', mode='a') as f:\n",
    "    print('# ' + time.ctime(), file=f)\n",
    "    print('', file=f)\n",
    "    print('### GridSearchCV parameters:', file=f)\n",
    "    print('', file=f)\n",
    "    print('```python', file=f)\n",
    "    print(GSCV.get_params, file=f)\n",
    "    print('```', file=f)\n",
    "    print('', file=f)\n",
    "    print('### Best SVC parameters:', file=f)\n",
    "    print('', file=f)\n",
    "    print('```python', file=f)\n",
    "    print(GSCV.best_estimator_, file=f)\n",
    "    print('```', file=f)\n",
    "    print('', file=f)\n",
    "    print('### Best parameters set found on development set:', file=f)\n",
    "    print('', file=f)\n",
    "    print('```python', file=f)\n",
    "    print(GSCV.best_params_, file=f)\n",
    "    print('```', file=f)\n",
    "    print('', file=f)\n",
    "    print('### Grid scores on development set:', file=f)\n",
    "    print('', file=f)\n",
    "    print('```', file=f)\n",
    "    means = GSCV.cv_results_['mean_test_score']\n",
    "    stds = GSCV.cv_results_['std_test_score']\n",
    "    for mean, std, params in zip(means, stds, GSCV.cv_results_['params']):\n",
    "        print('%0.3f (+/-%0.03f) for %r'\n",
    "              % (mean, std * 2, params), file=f)\n",
    "    print('```', file=f)\n",
    "    print('', file=f)\n",
    "    print('', file=f)\n",
    "\n",
    "# Send telegram message\n",
    "telegram_bot_id = toml.load('../telegram_bot_id.toml')\n",
    "params = {'chat_id': telegram_bot_id['chat_id'], 'text': '[python] SVC grid search terminated.'}\n",
    "requests.post('https://api.telegram.org/' + telegram_bot_id['bot_id'] + '/sendMessage', params=params)"
   ]
  }
 ],
 "metadata": {
  "kernelspec": {
   "display_name": "Python 3",
   "language": "python",
   "name": "python3"
  },
  "language_info": {
   "codemirror_mode": {
    "name": "ipython",
    "version": 3
   },
   "file_extension": ".py",
   "mimetype": "text/x-python",
   "name": "python",
   "nbconvert_exporter": "python",
   "pygments_lexer": "ipython3",
   "version": "3.6.9"
  }
 },
 "nbformat": 4,
 "nbformat_minor": 4
}
