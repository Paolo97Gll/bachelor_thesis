{
 "cells": [
  {
   "cell_type": "code",
   "execution_count": 1,
   "metadata": {},
   "outputs": [
    {
     "name": "stderr",
     "output_type": "stream",
     "text": [
      "Intel(R) Data Analytics Acceleration Library (Intel(R) DAAL) solvers for sklearn enabled: https://intelpython.github.io/daal4py/sklearn.html\n"
     ]
    }
   ],
   "source": [
    "%matplotlib inline\n",
    "\n",
    "# Scientific computing\n",
    "import numpy as np\n",
    "import pandas as pd\n",
    "from scipy import interp\n",
    "\n",
    "# Plot\n",
    "import matplotlib.pyplot as plt\n",
    "import seaborn as sns\n",
    "sns.set()\n",
    "#sns.set_context('paper')\n",
    "\n",
    "# Machine Learning\n",
    "# Model\n",
    "from sklearn.svm import SVC\n",
    "# Ensemble model\n",
    "from sklearn.ensemble import BaggingClassifier\n",
    "# Splitter Classes\n",
    "from sklearn.model_selection import StratifiedKFold\n",
    "from sklearn.model_selection import RepeatedStratifiedKFold\n",
    "# Splitter Functions\n",
    "from sklearn.model_selection import train_test_split\n",
    "from sklearn.model_selection import ShuffleSplit\n",
    "# Model validation\n",
    "from sklearn.model_selection import learning_curve\n",
    "# Training metrics\n",
    "from sklearn.metrics import confusion_matrix\n",
    "from sklearn.metrics import roc_curve\n",
    "from sklearn.metrics import auc\n",
    "\n",
    "# Other\n",
    "import requests\n",
    "import threading"
   ]
  },
  {
   "cell_type": "code",
   "execution_count": 2,
   "metadata": {},
   "outputs": [],
   "source": [
    "first_cycle = True\n",
    "with pd.HDFStore('../../classification/ris/OUT-classified-merged.h5', mode='r') as in_data:\n",
    "    for group in ['GLITCH', 'NO_GLITCH']:\n",
    "        if first_cycle == True:\n",
    "            data = np.array(in_data[group].to_numpy())\n",
    "            if group == 'GLITCH':\n",
    "                target = np.ones(len(data))\n",
    "            elif group == 'NO_GLITCH':\n",
    "                target = np.zeros(len(data))\n",
    "            else:\n",
    "                print(\"ERROR.\")\n",
    "            first_cycle = False\n",
    "        else:\n",
    "            data = np.concatenate((data, in_data[group].to_numpy()))\n",
    "            if group == 'GLITCH':\n",
    "                target = np.concatenate((target, np.ones(len(in_data[group].to_numpy()))))\n",
    "            elif group == 'NO_GLITCH':\n",
    "                target = np.concatenate((target, np.zeros(len(in_data[group].to_numpy()))))\n",
    "            else:\n",
    "                print(\"ERROR.\")\n",
    "    data = np.concatenate((data, in_data['MULTI_GLITCH'].to_numpy()))\n",
    "    target = np.concatenate((target, np.ones(len(in_data['MULTI_GLITCH'].to_numpy()))))"
   ]
  },
  {
   "cell_type": "code",
   "execution_count": 8,
   "metadata": {},
   "outputs": [
    {
     "name": "stdout",
     "output_type": "stream",
     "text": [
      "status: 19/19 \r"
     ]
    }
   ],
   "source": [
    "results = []\n",
    "\n",
    "data.sort(axis=1)\n",
    "\n",
    "kernel_list = ['linear']\n",
    "#gamma_list = np.arange(0.02, 0.03, 0.001)\n",
    "gamma_list = [1]\n",
    "C_list = np.arange(0.05, 1, 0.05)\n",
    "\n",
    "# Multithreading\n",
    "maxthreads = 8\n",
    "sema = threading.Semaphore(value=maxthreads)\n",
    "c = threading.Condition()\n",
    "\n",
    "k = 0\n",
    "\n",
    "# Multithread function\n",
    "def cm_th(kernel, gamma, C):\n",
    "    sema.acquire()\n",
    "    global data\n",
    "    global target\n",
    "    global cm\n",
    "    clf = SVC(kernel=kernel, gamma=gamma, C=C)\n",
    "    c.acquire()\n",
    "    X_train, X_test, y_train, y_test = train_test_split(data, target, test_size=0.3, random_state=None, stratify=target)\n",
    "    c.notify_all()\n",
    "    c.release()\n",
    "    y_pred = clf.fit(X_train, y_train).predict(X_test)\n",
    "    labels = [0., 1.]\n",
    "    #labels_text = ['no glitch', 'glitch']\n",
    "    cm_loc = confusion_matrix(y_test, y_pred, labels=labels)\n",
    "    c.acquire()\n",
    "    cm = np.append(cm, cm_loc[1,0])\n",
    "    c.notify_all()\n",
    "    c.release()\n",
    "    sema.release()\n",
    "\n",
    "# k-fold parameters\n",
    "n_splits = 5\n",
    "n_repeats = 6\n",
    "\n",
    "# Multithread function\n",
    "def sc_th(kernel, gamma, C, train_index, test_index):\n",
    "    # Acquire a semaphore slot\n",
    "    sema.acquire()\n",
    "    # Set global variables\n",
    "    global data\n",
    "    global target\n",
    "    global scores\n",
    "    # Load training and testing data\n",
    "    c.acquire()\n",
    "    clf = SVC(kernel=kernel, gamma=gamma, C=C)\n",
    "    X_train, X_test = data[train_index], data[test_index]\n",
    "    y_train, y_test = target[train_index], target[test_index]\n",
    "    c.notify_all()\n",
    "    c.release()\n",
    "    # Fit the model\n",
    "    clf.fit(X_train, y_train)\n",
    "    train_score = clf.score(X_test, y_test)\n",
    "    # Save the score\n",
    "    c.acquire()\n",
    "    scores = np.append(scores, train_score)\n",
    "    c.notify_all()\n",
    "    c.release()\n",
    "    # Release the semaphore slot\n",
    "    sema.release()\n",
    "\n",
    "k = 0\n",
    "for kernel in kernel_list:\n",
    "    for gamma in gamma_list:\n",
    "        for C in C_list:\n",
    "            \n",
    "            # Confusion matrix\n",
    "            cm = np.array([])\n",
    "            threads = []\n",
    "            for i in range(20):\n",
    "                thread = threading.Thread(target=cm_th, args=(kernel, gamma, C))\n",
    "                threads.append(thread)\n",
    "                thread.start()\n",
    "            for thread in threads:\n",
    "                thread.join()\n",
    "            \n",
    "            # Stratified k-fold\n",
    "            rskf = RepeatedStratifiedKFold(n_splits=n_splits, n_repeats=n_repeats, random_state=None)\n",
    "            scores = np.array([])\n",
    "            threads = []\n",
    "            # Make k-fold CV\n",
    "            for train_index, test_index in rskf.split(data, target):\n",
    "                thread = threading.Thread(target=sc_th, args=(kernel, gamma, C, train_index, test_index))\n",
    "                threads.append(thread)\n",
    "                thread.start()\n",
    "            for thread in threads:\n",
    "                thread.join()\n",
    "                \n",
    "            # Save\n",
    "            results.append(str(cm.mean()) + ', ' + str(cm.std()) + ', ' + str(scores.mean()) + ',' + str(kernel) + ', ' + str(gamma) + ', ' + str(C))\n",
    "            k += 1\n",
    "            print('status:', str(k) + '/' + str(len(kernel_list)*len(gamma_list)*len(C_list)), '\\r', end='')"
   ]
  },
  {
   "cell_type": "code",
   "execution_count": 9,
   "metadata": {},
   "outputs": [],
   "source": [
    "with open('risultati_s', mode='w') as f:\n",
    "    for i in results:\n",
    "        print(i, file=f)"
   ]
  },
  {
   "cell_type": "code",
   "execution_count": 18,
   "metadata": {},
   "outputs": [],
   "source": [
    "best_kernel = 'linear'\n",
    "best_gamma = 0.024\n",
    "best_C = 0.20"
   ]
  },
  {
   "cell_type": "code",
   "execution_count": 4,
   "metadata": {},
   "outputs": [],
   "source": [
    "data.sort(axis=1)"
   ]
  },
  {
   "cell_type": "code",
   "execution_count": 19,
   "metadata": {},
   "outputs": [
    {
     "name": "stdout",
     "output_type": "stream",
     "text": [
      "Score: 0.9993398978743616 +- 0.001309689565871446\n"
     ]
    }
   ],
   "source": [
    "# Multithreading\n",
    "maxthreads = 8\n",
    "sema = threading.Semaphore(value=maxthreads)\n",
    "c = threading.Condition()\n",
    "\n",
    "# k-fold parameters\n",
    "n_splits = 5\n",
    "n_repeats = 50\n",
    "\n",
    "# Multithread function\n",
    "def thread_function(train_index, test_index):\n",
    "    # Acquire a semaphore slot\n",
    "    sema.acquire()\n",
    "    # Set global variables\n",
    "    global data\n",
    "    global target\n",
    "    global scores\n",
    "    global best_kernel\n",
    "    global best_gamma\n",
    "    global best_C\n",
    "    # Load training and testing data\n",
    "    c.acquire()\n",
    "    clf = SVC(kernel=best_kernel, gamma=best_gamma, C=best_C)\n",
    "    X_train, X_test = data[train_index], data[test_index]\n",
    "    y_train, y_test = target[train_index], target[test_index]\n",
    "    c.notify_all()\n",
    "    c.release()\n",
    "    # Fit the model\n",
    "    clf.fit(X_train, y_train)\n",
    "    train_score = clf.score(X_test, y_test)\n",
    "    # Save the score\n",
    "    c.acquire()\n",
    "    scores = np.append(scores, train_score)\n",
    "    c.notify_all()\n",
    "    c.release()\n",
    "    # Release the semaphore slot\n",
    "    sema.release()\n",
    "\n",
    "# Stratified k-fold\n",
    "rskf = RepeatedStratifiedKFold(n_splits=n_splits, n_repeats=n_repeats, random_state=None)\n",
    "scores = np.array([])\n",
    "threads = []\n",
    "# Make k-fold CV\n",
    "for train_index, test_index in rskf.split(data, target):\n",
    "    thread = threading.Thread(target=thread_function, args=(train_index, test_index))\n",
    "    threads.append(thread)\n",
    "    thread.start()\n",
    "for thread in threads:\n",
    "    thread.join()\n",
    "    \n",
    "# Print final score\n",
    "print('Score:', scores.mean(), '+-', scores.std())"
   ]
  },
  {
   "cell_type": "code",
   "execution_count": 21,
   "metadata": {},
   "outputs": [
    {
     "name": "stdout",
     "output_type": "stream",
     "text": [
      "[[29499     1]\n",
      " [   42 30458]]\n"
     ]
    },
    {
     "data": {
      "image/png": "[encoded data removed]",
      "text/plain": [
       "<Figure size 432x288 with 2 Axes>"
      ]
     },
     "metadata": {
      "needs_background": "light"
     },
     "output_type": "display_data"
    }
   ],
   "source": [
    "clf = SVC(kernel=best_kernel, gamma=best_gamma, C=best_C)\n",
    "\n",
    "def plot_confusion_matrix(cm, labels, title, filename, normalize=True, save=True):\n",
    "    # Create DataFrame\n",
    "    df_cm = pd.DataFrame(cm, columns=labels, index=labels)\n",
    "    df_cm.index.name = 'True label'\n",
    "    df_cm.columns.name = 'Predicted label'\n",
    "    \n",
    "    # Normalize\n",
    "    if normalize:\n",
    "        df_cm = df_cm.div(df_cm.sum(axis=1), axis=0).round(decimals=2)\n",
    "    \n",
    "    # Plot\n",
    "    fig, ax = plt.subplots()\n",
    "    ax = sns.heatmap(df_cm, cmap='Blues', annot=True)\n",
    "    axlim = ax.get_ylim()\n",
    "    ax.set_ylim(axlim[0] + 0.5, axlim[1] - 0.5)\n",
    "    if normalize:\n",
    "        ax.set_title(title + ' (normalized)')\n",
    "    else:\n",
    "        ax.set_title(title)\n",
    "\n",
    "cm = np.zeros(shape=(2,2), dtype=int)\n",
    "# Compute the average confusion matrix\n",
    "for i in range(100):\n",
    "    print (i, '\\r', end='')\n",
    "    # Split the data into a training set and a test set\n",
    "    X_train, X_test, y_train, y_test = train_test_split(data, target, test_size=0.3, random_state=None, stratify=target)\n",
    "    # Train and predict\n",
    "    y_pred = clf.fit(X_train, y_train).predict(X_test)\n",
    "    # Compute confusion matrix\n",
    "    labels = [0., 1.]\n",
    "    labels_text = ['no glitch', 'glitch']\n",
    "    cm += confusion_matrix(y_test, y_pred, labels=labels)\n",
    "print(cm)\n",
    "plot_confusion_matrix(cm, labels_text, 'Confusion matrix (with multi glitch)', 'ris/plots/mg-confusion_matrix.pdf', normalize=True)"
   ]
  },
  {
   "cell_type": "code",
   "execution_count": null,
   "metadata": {},
   "outputs": [],
   "source": []
  },
  {
   "cell_type": "code",
   "execution_count": null,
   "metadata": {},
   "outputs": [],
   "source": []
  }
 ],
 "metadata": {
  "kernelspec": {
   "display_name": "Python 3",
   "language": "python",
   "name": "python3"
  },
  "language_info": {
   "codemirror_mode": {
    "name": "ipython",
    "version": 3
   },
   "file_extension": ".py",
   "mimetype": "text/x-python",
   "name": "python",
   "nbconvert_exporter": "python",
   "pygments_lexer": "ipython3",
   "version": "3.6.9"
  }
 },
 "nbformat": 4,
 "nbformat_minor": 4
}
