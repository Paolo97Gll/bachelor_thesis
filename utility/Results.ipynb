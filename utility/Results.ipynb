{
 "cells": [
  {
   "cell_type": "markdown",
   "metadata": {},
   "source": [
    "# Results plot"
   ]
  },
  {
   "cell_type": "code",
   "execution_count": 1,
   "metadata": {},
   "outputs": [],
   "source": [
    "%matplotlib inline\n",
    "\n",
    "# Reading files\n",
    "import h5py\n",
    "import toml\n",
    "\n",
    "# Scientific computing\n",
    "import numpy as np\n",
    "import pandas as pd\n",
    "\n",
    "# Plot\n",
    "import matplotlib.pyplot as plt; #plt.xkcd()\n",
    "import seaborn as sns\n",
    "sns.set()\n",
    "sns.set_context('paper')\n",
    "\n",
    "# Other\n",
    "import os\n",
    "import subprocess\n",
    "from random import choice\n",
    "import time as pytime\n",
    "from IPython.display import display, clear_output\n",
    "\n",
    "# Suppress NaturalNameWarning raised by HDFStore\n",
    "import warnings\n",
    "import tables\n",
    "warnings.filterwarnings('ignore', category=tables.NaturalNameWarning)"
   ]
  },
  {
   "cell_type": "code",
   "execution_count": 6,
   "metadata": {},
   "outputs": [],
   "source": [
    "score = np.array([0.9805, 0.9897, 0.9993,\n",
    "                  0.9003, 0.9892, 0.9984,\n",
    "                  0.9143, 0.9961, 0.9899,\n",
    "                  0.9118, 0.9537, 0.9962])\n",
    "error = np.array([0.0063, 0.0021, 0.0012,\n",
    "                  0.0150, 0.0022, 0.0018,\n",
    "                  0.0113, 0.0012, 0.0052,\n",
    "                  0.0041, 0.0039, 0.0018])\n",
    "\n",
    "# High DataFrame\n",
    "r1 = pd.DataFrame()\n",
    "r1['Algorithm'] = ['SVC', 'SVC', 'SVC',\n",
    "                   'KNC', 'KNC', 'KNC',\n",
    "                   'RFC', 'RFC', 'RFC',\n",
    "                   'LGB', 'LGB', 'LGB']\n",
    "r1['Training dataset type'] = ['Standard', 'Augmented', 'Sorted',\n",
    "                               'Standard', 'Augmented', 'Sorted',\n",
    "                               'Standard', 'Augmented', 'Sorted',\n",
    "                               'Standard', 'Augmented', 'Sorted']\n",
    "r1['Score'] = score+error\n",
    "\n",
    "# Low DataFrame\n",
    "r2 = pd.DataFrame()\n",
    "r2['Algorithm'] = ['SVC', 'SVC', 'SVC',\n",
    "                   'KNC', 'KNC', 'KNC',\n",
    "                   'RFC', 'RFC', 'RFC',\n",
    "                   'LGB', 'LGB', 'LGB']\n",
    "r2['Training dataset type'] = ['Standard', 'Augmented', 'Sorted',\n",
    "                               'Standard', 'Augmented', 'Sorted',\n",
    "                               'Standard', 'Augmented', 'Sorted',\n",
    "                               'Standard', 'Augmented', 'Sorted']\n",
    "r2['Score'] = score-error\n",
    "\n",
    "# Final DataFrame\n",
    "results = pd.concat([r1, r2])\n",
    "results.index = range(len(results.index))"
   ]
  },
  {
   "cell_type": "code",
   "execution_count": 21,
   "metadata": {},
   "outputs": [
    {
     "data": {
      "image/png": "[encoded data removed]",
      "text/plain": [
       "<Figure size 432x288 with 1 Axes>"
      ]
     },
     "metadata": {},
     "output_type": "display_data"
    }
   ],
   "source": [
    "ax = sns.barplot(x='Training dataset type', y='Score', hue='Algorithm', data=results, ci=100, capsize=.05, errwidth=1)\n",
    "#ax.despine(left=True)\n",
    "#ax.fig.get_axes()[0].legend(loc='upper left')\n",
    "ax.set(ylim=(0.88, 1.005))\n",
    "ax.figure.savefig('model_comparison.pdf')"
   ]
  },
  {
   "cell_type": "code",
   "execution_count": null,
   "metadata": {},
   "outputs": [],
   "source": []
  }
 ],
 "metadata": {
  "kernelspec": {
   "display_name": "Python 3",
   "language": "python",
   "name": "python3"
  },
  "language_info": {
   "codemirror_mode": {
    "name": "ipython",
    "version": 3
   },
   "file_extension": ".py",
   "mimetype": "text/x-python",
   "name": "python",
   "nbconvert_exporter": "python",
   "pygments_lexer": "ipython3",
   "version": "3.7.6"
  }
 },
 "nbformat": 4,
 "nbformat_minor": 4
}
