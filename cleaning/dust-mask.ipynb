{
 "cells": [
  {
   "cell_type": "markdown",
   "metadata": {},
   "source": [
    "# CREATE GALAXY DUST MASK"
   ]
  },
  {
   "cell_type": "code",
   "execution_count": 1,
   "metadata": {},
   "outputs": [],
   "source": [
    "import healpy as hp\n",
    "import numpy as np\n",
    "import os\n",
    "import matplotlib.pyplot as plt\n",
    "from astropy.io import fits"
   ]
  },
  {
   "cell_type": "markdown",
   "metadata": {},
   "source": [
    "## Create mask"
   ]
  },
  {
   "cell_type": "code",
   "execution_count": 2,
   "metadata": {},
   "outputs": [],
   "source": [
    "if not os.path.exists(\"ris\"):\n",
    "    print(\"Creating 'ris' directory\")\n",
    "    os.makedirs(\"ris\")"
   ]
  },
  {
   "cell_type": "markdown",
   "metadata": {},
   "source": [
    "Load the HFI 353 GHz map from the FITS file downloaded from the Planck Legacy Archive (PLA)."
   ]
  },
  {
   "cell_type": "code",
   "execution_count": 3,
   "metadata": {},
   "outputs": [
    {
     "name": "stdout",
     "output_type": "stream",
     "text": [
      "NSIDE = 2048\n",
      "ORDERING = NESTED in fits file\n",
      "INDXSCHM = IMPLICIT\n"
     ]
    },
    {
     "name": "stderr",
     "output_type": "stream",
     "text": [
      "/home/paolo/.miniconda3/envs/idp/lib/python3.6/site-packages/healpy/fitsfunc.py:371: UserWarning: No INDXSCHM keyword in header file : assume IMPLICIT\n",
      "  warnings.warn(\"No INDXSCHM keyword in header file : \" \"assume {}\".format(schm))\n"
     ]
    },
    {
     "name": "stdout",
     "output_type": "stream",
     "text": [
      "Ordering converted to RING\n"
     ]
    }
   ],
   "source": [
    "hfi353 = hp.read_map(\"/mnt/d/Tesi/data/MilkyWay/HFI_SkyMap_353-psb_2048_R3.01_full.fits\")\n",
    "\n",
    "# Reduce the resolution of the map in order to save memory and computational time\n",
    "#print(\"Changing resolution\")\n",
    "#hfi353 = hp.ud_grade(hfi353, 512)"
   ]
  },
  {
   "cell_type": "markdown",
   "metadata": {},
   "source": [
    "Make the mask."
   ]
  },
  {
   "cell_type": "code",
   "execution_count": 5,
   "metadata": {},
   "outputs": [
    {
     "name": "stdout",
     "output_type": "stream",
     "text": [
      "Rotate\n",
      "Smoothing filter\n",
      "Normalize pixel values\n",
      "Make mask\n",
      "Saving mask\n"
     ]
    }
   ],
   "source": [
    "# Change the following value to find a suitable mask\n",
    "THRESHOLD = 0.009\n",
    "\n",
    "hfi353N = np.array(hfi353)\n",
    "\n",
    "# Rotate the map from Galactic to Ecliptic coordinates\n",
    "print(\"Rotate\")\n",
    "rotator = hp.rotator.Rotator(coord=[\"G\",\"E\"])\n",
    "hfi353N = rotator.rotate_map_pixel(hfi353N)\n",
    "\n",
    "# Apply a smoothing filter to the map\n",
    "print(\"Smoothing filter\")\n",
    "hfi353N = hp.smoothing(hfi353N, fwhm=np.deg2rad(1.0), verbose=False)\n",
    "\n",
    "# Normalize the pixel values\n",
    "print(\"Normalize pixel values\")\n",
    "hfi353N -= np.min(hfi353N)\n",
    "hfi353N /= np.max(hfi353N)\n",
    "\n",
    "# Clip the values\n",
    "print(\"Make mask\")\n",
    "hfi353N[hfi353N <= THRESHOLD] = 0\n",
    "hfi353N[hfi353N > THRESHOLD] = 1\n",
    "\n",
    "# Save the map in a new file\n",
    "print(\"Saving mask\")\n",
    "file_name = \"ris/HFI_DustMask_\" + str(THRESHOLD) + \".fits.gz\"\n",
    "if os.path.exists(file_name):\n",
    "    os.remove(file_name)\n",
    "hp.write_map(file_name, hfi353N, coord=\"E\")"
   ]
  },
  {
   "cell_type": "markdown",
   "metadata": {},
   "source": [
    "## Plot data\n",
    "\n",
    "Plot galaxy map without threshold, normalized as hist.\n",
    "\n",
    "_**hist**: this method usually increases the global contrast of many images, especially when the usable data of the image is represented by close contrast values. Through this adjustment, the intensities can be better distributed on the histogram. This allows for areas of lower local contrast to gain a higher contrast. Histogram equalization\n",
    "accomplishes this by effectively spreading out the most frequent intensity values._"
   ]
  },
  {
   "cell_type": "code",
   "execution_count": 9,
   "metadata": {},
   "outputs": [
    {
     "name": "stdout",
     "output_type": "stream",
     "text": [
      "NSIDE = 2048\n",
      "ORDERING = NESTED in fits file\n",
      "INDXSCHM = IMPLICIT\n"
     ]
    },
    {
     "name": "stderr",
     "output_type": "stream",
     "text": [
      "/home/paolo/.miniconda3/envs/idp/lib/python3.6/site-packages/healpy/fitsfunc.py:371: UserWarning: No INDXSCHM keyword in header file : assume IMPLICIT\n",
      "  warnings.warn(\"No INDXSCHM keyword in header file : \" \"assume {}\".format(schm))\n"
     ]
    },
    {
     "name": "stdout",
     "output_type": "stream",
     "text": [
      "Ordering converted to RING\n",
      "Drawing galactic map\n",
      "Drawing ecliptic map\n"
     ]
    }
   ],
   "source": [
    "hfi353 = hp.read_map(\"/mnt/d/Tesi/data/MilkyWay/HFI_SkyMap_353-psb_2048_R3.01_full.fits\")\n",
    "\n",
    "# Galactic coordinates\n",
    "print(\"Drawing galactic map\")\n",
    "hp.mollview(hfi353, coord=\"G\", norm=\"hist\")\n",
    "plt.savefig(\"ris/galactic_DustMap.png\", dpi=800)\n",
    "# Ecliptic coordinates\n",
    "print(\"Drawing ecliptic map\")\n",
    "hp.mollview(hfi353, coord=\"GE\", norm=\"hist\")\n",
    "plt.savefig(\"ris/ecliptic_DustMap.png\", dpi=800)"
   ]
  },
  {
   "cell_type": "markdown",
   "metadata": {},
   "source": [
    "Plot galaxy map with threshold."
   ]
  },
  {
   "cell_type": "code",
   "execution_count": 7,
   "metadata": {},
   "outputs": [
    {
     "name": "stdout",
     "output_type": "stream",
     "text": [
      "NSIDE = 2048\n",
      "ORDERING = RING in fits file\n",
      "INDXSCHM = IMPLICIT\n",
      "Drawing galactic mask\n",
      "Drawing ecliptic mask\n"
     ]
    }
   ],
   "source": [
    "# Select desired threshold\n",
    "THRESHOLD = 0.009\n",
    "\n",
    "file_name = \"ris/HFI_DustMask_\" + str(THRESHOLD) + \".fits.gz\"\n",
    "dust_map = hp.read_map(file_name)\n",
    "\n",
    "# Galactic coordinates\n",
    "print(\"Drawing galactic mask\")\n",
    "hp.mollview(dust_map, coord=\"EG\")\n",
    "plt.savefig(\"ris/galactic_DustMask_\" + str(THRESHOLD) + \".png\", dpi=800)\n",
    "# Ecliptic coordinates\n",
    "print(\"Drawing ecliptic mask\")\n",
    "hp.mollview(dust_map, coord=\"E\")\n",
    "plt.savefig(\"ris/ecliptic_DustMask_\" + str(THRESHOLD) + \".png\", dpi=800)"
   ]
  },
  {
   "cell_type": "code",
   "execution_count": null,
   "metadata": {},
   "outputs": [],
   "source": []
  }
 ],
 "metadata": {
  "kernelspec": {
   "display_name": "Python 3",
   "language": "python",
   "name": "python3"
  },
  "language_info": {
   "codemirror_mode": {
    "name": "ipython",
    "version": 3
   },
   "file_extension": ".py",
   "mimetype": "text/x-python",
   "name": "python",
   "nbconvert_exporter": "python",
   "pygments_lexer": "ipython3",
   "version": "3.6.8"
  }
 },
 "nbformat": 4,
 "nbformat_minor": 4
}
