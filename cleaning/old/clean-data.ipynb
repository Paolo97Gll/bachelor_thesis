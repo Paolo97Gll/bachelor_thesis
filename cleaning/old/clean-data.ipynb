{
 "cells": [
  {
   "cell_type": "markdown",
   "metadata": {},
   "source": [
    "# CLEAN DATA\n",
    "\n",
    "Remove the galactic dust and the galactic dipole from RAW data; this is necessary to make a correct classification of the glitches."
   ]
  },
  {
   "cell_type": "code",
   "execution_count": 1,
   "metadata": {},
   "outputs": [],
   "source": [
    "import healpy as hp\n",
    "import numpy as np\n",
    "import matplotlib.pyplot as plt\n",
    "from astropy.io import fits\n",
    "import statistics as sts\n",
    "from scipy.linalg import lstsq"
   ]
  },
  {
   "cell_type": "markdown",
   "metadata": {},
   "source": [
    "## Model constants and parameters"
   ]
  },
  {
   "cell_type": "code",
   "execution_count": 2,
   "metadata": {},
   "outputs": [],
   "source": [
    "SPEED_OF_LIGHT_M_S = 2.99792458e8\n",
    "PLANCK_H_MKS = 6.62606896e-34\n",
    "BOLTZMANN_K_MKS = 1.3806504e-23\n",
    "SOLSYSSPEED_M_S = 370082.2332\n",
    "SOLSYSDIR_ECL_COLAT_RAD = 1.7656051330336222\n",
    "SOLSYSDIR_ECL_LONG_RAD = 2.9958842149922833\n",
    "T_CMB = 2.72548\n",
    "\n",
    "SOLSYS_SPEED_VEC_M_S = SOLSYSSPEED_M_S * np.array(\n",
    "                                                  [\n",
    "                                                   np.sin(SOLSYSDIR_ECL_COLAT_RAD) * np.cos(SOLSYSDIR_ECL_LONG_RAD),\n",
    "                                                   np.sin(SOLSYSDIR_ECL_COLAT_RAD) * np.sin(SOLSYSDIR_ECL_LONG_RAD),\n",
    "                                                   np.cos(SOLSYSDIR_ECL_COLAT_RAD),\n",
    "                                                   ]\n",
    "                                                  )"
   ]
  },
  {
   "cell_type": "code",
   "execution_count": 3,
   "metadata": {},
   "outputs": [],
   "source": [
    "OPERATING_DAY = \"091\"\n",
    "FILENAME_PTG = \"/mnt/d/Tesi/data/HFI-143/HFI_TOI_143-PTG_R2.01_OD0\" + OPERATING_DAY + \".fits\"\n",
    "FILENAME_RAW = \"/mnt/d/Tesi/data/HFI-143/HFI_TOI_143-RAW_R2.00_OD0\" + OPERATING_DAY + \".fits\"\n",
    "FILENAME_SCI = \"/mnt/d/Tesi/data/HFI-143/HFI_TOI_143-SCI_R2.00_OD0\" + OPERATING_DAY + \".fits\"\n",
    "\n",
    "DETECTOR = \"143-5\"\n",
    "\n",
    "FILENAME_MASK = \"ris/HFI_DustMask_0.009.fits.gz\""
   ]
  },
  {
   "cell_type": "markdown",
   "metadata": {},
   "source": [
    "## Cleaning model\n",
    "\n",
    "Since the purpose of this thesis is to detect glitches and not to clean up the RAW signal from the galactic signal, all the points found on the galactic plane can be ignored without any consequences.\n",
    "\n",
    "### SCI data flags\n",
    "\n",
    "Load galaxy flag from the SCI data. The SCI data, taken as PTG and RAW data from the Planck Legacy Archive (PLA), are the so-called scientific data (already cleaned of various effects and glitches) and each data has a flag that indicates a peculiarity, i.e. point object, planet, galaxy plane and others. In particular, the flag of interest is that concerning the galaxy:\n",
    "```\n",
    "bit 4: StrongSignal; 1 = In Galactic plane\n",
    "```\n",
    "Data with this flag are localized on the galactic plane and must therefore be discarded."
   ]
  },
  {
   "cell_type": "code",
   "execution_count": 4,
   "metadata": {},
   "outputs": [],
   "source": [
    "# Open SCI data and load the \"FLAG\" field\n",
    "with fits.open(FILENAME_SCI) as f:\n",
    "    SCI_FLAG_bits = f[DETECTOR].data.field(\"FLAG\")\n",
    "    \n",
    "# Stack array in sequence vertically\n",
    "#SCI_FLAG_bits = np.vstack(SCI_FLAG_bits)\n",
    "# Unpacks bits\n",
    "SCI_FLAG_bits = np.unpackbits(SCI_FLAG_bits[:, np.newaxis], axis=1)\n",
    "# Read the 4th bit (aka the 4th column of the multidimensional array)\n",
    "SCI_FLAG = SCI_FLAG_bits[:,3]"
   ]
  },
  {
   "cell_type": "markdown",
   "metadata": {},
   "source": [
    "### Dust mask\n",
    "\n",
    "Load the dust mask previously created."
   ]
  },
  {
   "cell_type": "code",
   "execution_count": 5,
   "metadata": {},
   "outputs": [],
   "source": [
    "# Read the dust mask\n",
    "MASK = hp.read_map(FILENAME_MASK, verbose=False)\n",
    "# The nside (number of pixels) is taken as that of the mask\n",
    "NSIDE = hp.npix2nside(len(MASK))\n",
    "\n",
    "# Open PTG data and load the \"THETA\" and \"PHI\" fields\n",
    "with fits.open(FILENAME_PTG) as inpf:\n",
    "    theta, phi = [inpf[DETECTOR].data.field(x) for x in (\"THETA\", \"PHI\")]"
   ]
  },
  {
   "cell_type": "code",
   "execution_count": 6,
   "metadata": {},
   "outputs": [],
   "source": [
    "# Convert the sequence of positions in the sky into a sequence of pixel indexes\n",
    "# Not used because creates a problem with the averaging\n",
    "#pixidx = hp.ang2pix(NSIDE, theta, phi)\n",
    "\n",
    "# Get the directions (vectors) directly from the angular coordinates\n",
    "directions = hp.ang2vec(theta, phi)\n",
    "# Take of the average of two consecutive directions\n",
    "directions = (directions[:-1:2] + directions[1::2]) / 2\n",
    "# Convert the directions into pixels - taking directly from the angles creates a problem with the averaging\n",
    "pixidix = hp.vec2pix(NSIDE ,directions[:,0], directions[:,1], directions[:,2])\n",
    "\n",
    "# Create array with 1s and 0s corresponding to the positions \"good\" or \"bad\"\n",
    "MASK_FLAG = MASK[pixidix] == 0\n",
    "# Make an array with INT type out of the bool one.\n",
    "MASK_FLAG = MASK_FLAG.astype(np.int)"
   ]
  },
  {
   "cell_type": "markdown",
   "metadata": {},
   "source": [
    "### RAW data preparation"
   ]
  },
  {
   "cell_type": "code",
   "execution_count": 7,
   "metadata": {},
   "outputs": [],
   "source": [
    "# Open the voltages\n",
    "with fits.open(FILENAME_RAW) as f:\n",
    "    obt = f[\"OBT\"].data.field(\"OBT\")\n",
    "    data_raw = f[DETECTOR].data.field(\"RAW\")"
   ]
  },
  {
   "cell_type": "markdown",
   "metadata": {},
   "source": [
    "#### Time\n",
    "\n",
    "First the OBT (_on board time_) must be converted to seconds and the offset must be removed, then take the average between two consecutive times. The conversion constant is `65536`"
   ]
  },
  {
   "cell_type": "code",
   "execution_count": 8,
   "metadata": {},
   "outputs": [],
   "source": [
    "# Convert the time from OBT clock to seconds and remove the offset\n",
    "time = (obt - obt[0]) / 65536\n",
    "# Average the time of two adjacent samples\n",
    "time = (time[:-1:2] + time[1::2]) / 2"
   ]
  },
  {
   "cell_type": "markdown",
   "metadata": {},
   "source": [
    "#### Data\n",
    "\n",
    "Take the average between two consecutive data. "
   ]
  },
  {
   "cell_type": "code",
   "execution_count": 9,
   "metadata": {},
   "outputs": [],
   "source": [
    "#data2 = (data[1::2] - data[:-1:2])/2\n",
    "data = np.abs(data_raw)\n",
    "data = (data[:-1:2] + data[1::2])/2"
   ]
  },
  {
   "cell_type": "markdown",
   "metadata": {},
   "source": [
    "#### Galactic dipole\n",
    "\n",
    "Compute the galactic dipole.\n",
    "\n",
    "`get_dipole_temperature(directions)` : given one or more one-length versors, return the intensity of the CMB dipole; vectors must be expressed in the ecliptic coordinate system."
   ]
  },
  {
   "cell_type": "code",
   "execution_count": 10,
   "metadata": {},
   "outputs": [],
   "source": [
    "def get_dipole_temperature(directions):\n",
    "    \n",
    "    beta = SOLSYS_SPEED_VEC_M_S / SPEED_OF_LIGHT_M_S\n",
    "    gamma = (1 - np.dot(beta, beta)) ** (-0.5)\n",
    "    \n",
    "    return T_CMB * (1.0 / (gamma * (1 - np.dot(directions, beta))) - 1.0)"
   ]
  },
  {
   "cell_type": "code",
   "execution_count": 11,
   "metadata": {},
   "outputs": [],
   "source": [
    "dipole = get_dipole_temperature(directions)"
   ]
  },
  {
   "cell_type": "markdown",
   "metadata": {},
   "source": [
    "### Linear regression"
   ]
  },
  {
   "cell_type": "code",
   "execution_count": null,
   "metadata": {},
   "outputs": [],
   "source": [
    "# Calculate the medians for the data and the dipole temperatures and rescale accordingly\n",
    "median_V = sts.median(data)\n",
    "median_D = sts.median(dipole)\n",
    "\n",
    "data = data - median_V\n",
    "dipole = dipole - median_D"
   ]
  },
  {
   "cell_type": "markdown",
   "metadata": {},
   "source": [
    "Adesso viene effettuata una regressione lineare... WHY??"
   ]
  },
  {
   "cell_type": "code",
   "execution_count": null,
   "metadata": {},
   "outputs": [],
   "source": [
    "\n",
    "\n",
    "# Evaluate the G factor, such as V - median(V) = G • (T - median(T))\n",
    "M = dipole[:, np.newaxis]*[0, 1]\n",
    "p, res, rnk, s = lstsq(M, data)\n",
    "G = p[1]\n",
    "\n",
    "# Take the dipole out of the data\n",
    "V_CORRECT = data - G*dipole\n",
    "\n",
    "# Take out from the data the directions corresponding to the galactic dust mask\n",
    "clean_data = V_CORRECT[MASK_FLAG==1]\n",
    "holed_raw = data[MASK_FLAG==1]\n",
    "\n",
    "# Take out also on the time - this way I can have \"holes\" in the graph\n",
    "time_clean = time[MASK_FLAG==1]\n",
    "\n",
    "np.savetxt(\"data_to_classify/time_clean.txt\", time_clean)\n",
    "np.savetxt(\"data_to_classify/clean_data.txt\", clean_data)"
   ]
  },
  {
   "cell_type": "code",
   "execution_count": null,
   "metadata": {},
   "outputs": [],
   "source": [
    "\n",
    "\n",
    "\n",
    "#\n",
    "#\n",
    "#\n",
    "# PLOTTING -- IF DO NOT WANT PLOT, REMOVE THIS PART\n",
    "#\n",
    "#\n",
    "#\n",
    "\n",
    "mask = time < 30.\n",
    "\n",
    "# plot the dipole\n",
    "plt.figure(1)\n",
    "plt.plot(time[mask], dipole[mask], marker='.', linestyle='none', color='#d9b83b')\n",
    "plt.xlabel(\"Time [s]\")\n",
    "plt.ylabel(\"Temperature [K]\")\n",
    "plt.title(\"Dipole temperatures\")\n",
    "plt.savefig(\"plots/dipole_example.png\", dpi=600)\n",
    "\n",
    "#plot the data - both raw and cleaned (two times, once without holes and ones with holes)\n",
    "plt.figure(2)\n",
    "plt.plot(time[mask], data[mask], marker='.', linestyle='none', color='#4496e7', alpha=0.9, label=\"with dipole\")\n",
    "plt.plot(time[mask], V_CORRECT[mask], marker='.', linestyle='none', color='#df413a', alpha=0.9, label=\"without dipole\")\n",
    "plt.title(\"Before and after dipole removal signal — with galactic dust.\")\n",
    "plt.xlabel(\"Time [s]\")\n",
    "plt.ylabel(\"Signal\")\n",
    "plt.legend(\"best\")\n",
    "\n",
    "plt.savefig(\"plots/gal_signal.png\", dpi=600)\n",
    "\n",
    "plt.figure(3)\n",
    "mask = time_clean < 30.\n",
    "plt.plot(time_clean[mask], holed_raw[mask], marker='.', linestyle='none', color='#4496e7', alpha=0.9, label=\"with dipole\")\n",
    "plt.plot(time_clean[mask], clean_data[mask], marker='.', linestyle='none', color='#df413a', alpha=0.9, label=\"without dipole\")\n",
    "plt.title(\"Before and after dipole removal signal — without galactic dust.\")\n",
    "plt.xlabel(\"Time [s]\")\n",
    "plt.ylabel(\"Signal\")\n",
    "plt.legend(\"best\")\n",
    "\n",
    "plt.savefig(\"plots/no_gal_signal.png\", dpi=600)\n",
    "\n"
   ]
  }
 ],
 "metadata": {
  "kernelspec": {
   "display_name": "Python 3",
   "language": "python",
   "name": "python3"
  },
  "language_info": {
   "codemirror_mode": {
    "name": "ipython",
    "version": 3
   },
   "file_extension": ".py",
   "mimetype": "text/x-python",
   "name": "python",
   "nbconvert_exporter": "python",
   "pygments_lexer": "ipython3",
   "version": "3.6.8"
  }
 },
 "nbformat": 4,
 "nbformat_minor": 4
}
